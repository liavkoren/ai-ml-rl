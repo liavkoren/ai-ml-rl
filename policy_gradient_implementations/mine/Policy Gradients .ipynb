{
 "cells": [
  {
   "cell_type": "code",
   "execution_count": 6,
   "metadata": {},
   "outputs": [
    {
     "name": "stdout",
     "output_type": "stream",
     "text": [
      "\u001b[33mWARN: gym.spaces.Box autodetected dtype as <class 'numpy.float32'>. Please provide explicit dtype.\u001b[0m\n"
     ]
    }
   ],
   "source": [
    "%matplotlib inline\n",
    "\n",
    "from datetime import datetime\n",
    "from imp import reload\n",
    "\n",
    "import attr\n",
    "import gym\n",
    "from matplotlib import pyplot as plt\n",
    "import numpy as np\n",
    "from numpy.random import seed as rng_seed\n",
    "from smooth import smooth\n",
    "\n",
    "ENV_NAME = 'CartPole-v1'\n",
    "env = gym.make(ENV_NAME)\n",
    "STATE_SIZE = env.observation_space.shape\n",
    "ACTION_SIZE = env.action_space.n\n",
    "ACTOR_STEP_SIZE = .01\n",
    "CRITIC_STEP_SIZE = .01\n",
    "DISCOUNT_RATE = 0.99\n",
    "\n",
    "\n",
    "# https://machinelearningmastery.com/reproducible-results-neural-networks-keras/#comment-414394\n",
    "rng_seed(0)"
   ]
  },
  {
   "cell_type": "markdown",
   "metadata": {},
   "source": [
    "# REINFORCE Monte-Carlo PG episodic\n",
    "### From Sutton/Barto Reinforcement Learning 2nd ed, p. 330\n",
    "\n",
    "- Uses linear linear value function approximation in the CartPole env.\n",
    "\n",
    "State function is: $$f(x, {\\dot{x}}, {\\theta}, {\\dot{\\theta}}) \\hspace{2pt} {\\rightarrow} \\hspace{2pt} (1, x, {\\dot{x}}, {\\theta}, {\\dot{\\theta}}, x{\\dot{x}}, {\\theta}{\\dot{\\theta}}, x{\\theta}, x{\\dot{\\theta}}, {\\dot{x}}{\\theta}, {\\dot{x}}{\\dot{\\theta}}, x{\\dot{x}}{\\theta}{\\dot{\\theta}})$$"
   ]
  },
  {
   "cell_type": "code",
   "execution_count": 2,
   "metadata": {},
   "outputs": [
    {
     "name": "stdout",
     "output_type": "stream",
     "text": [
      "\u001b[33mWARN: gym.spaces.Box autodetected dtype as <class 'numpy.float32'>. Please provide explicit dtype.\u001b[0m\n"
     ]
    }
   ],
   "source": [
    "import attr\n",
    "import gym\n",
    "from matplotlib import pyplot as plt\n",
    "import numpy as np\n",
    "\n",
    "env_name = 'CartPole-v1'\n",
    "env = gym.make(env_name)\n",
    "\n",
    "\n",
    "def cartpole_state_func(state):\n",
    "    # for cartpole: pos, vel, ang, ang vel\n",
    "    pos, vel, ang, ang_vel = state\n",
    "    return np.array([1, pos, vel, ang, ang_vel, pos*vel, ang*ang_vel, pos*ang, pos*ang_vel, vel*ang, vel*ang_vel, pos*vel*ang*ang_vel])\n",
    "\n",
    "\n",
    "@attr.s\n",
    "class Policy:\n",
    "    weights = attr.ib()\n",
    "    state_func = attr.ib()\n",
    "\n",
    "    def get_action(self, state):\n",
    "        if np.random.random() < self.weights.dot(self.state_func(state)):\n",
    "            return 1\n",
    "        return 0\n",
    "\n",
    "\n",
    "def run_episode(policy, env, render=False):\n",
    "    state = env.reset()\n",
    "    is_done = False\n",
    "    states, actions, rewards = [], [], []\n",
    "    for _ in range(200):                \n",
    "        if render:\n",
    "            env.render()        \n",
    "        action = policy.get_action(state)\n",
    "        state_, reward, is_done, _ = env.step(action)\n",
    "        states.append(state)\n",
    "        actions.append(action)\n",
    "        rewards.append(reward)\n",
    "        state = state_\n",
    "        if is_done:\n",
    "            break\n",
    "    return states, actions, rewards\n",
    "\n",
    "\n",
    "def discounted_return(rewards, discount=0.95):\n",
    "    total = 0\n",
    "    for idx, score in enumerate(rewards):\n",
    "        total += (discount ** idx) * score\n",
    "    return total\n",
    "\n",
    "\n",
    "def reinforce(policy, env, step_size_start=5e-6, step_size_end=1e-7, discount=0.9, num_episodes=2000, render_every=50):\n",
    "    training_rewards = []\n",
    "    step_sizes = []\n",
    "    best_return = float('-inf')\n",
    "    best_weights = None\n",
    "    step_size = step_size_start\n",
    "    step_size_change = (step_size_start - step_size_end) / num_episodes\n",
    "    for episode in range(num_episodes):\n",
    "        \n",
    "        states, actions, rewards = run_episode(policy, env, render=episode % render_every == 0)\n",
    "        episode_return = sum(rewards)        \n",
    "        if episode_return > best_return:\n",
    "            best_return = episode_return\n",
    "            best_weights = policy.weights\n",
    "        training_rewards.append(episode_return)  \n",
    "        step_size = step_size_end + step_size_start * .995 ** episode\n",
    "        step_sizes.append(step_size)\n",
    "        for idx, action in enumerate(actions):\n",
    "            state = states[idx]\n",
    "            G = discounted_return(rewards[idx:])            \n",
    "            if episode % render_every == 0:\n",
    "                print(f'{episode}: {episode_return}, step-size: {step_size:.2}', end='\\r', flush=True)\n",
    "            policy.weights += step_size * G * policy.state_func(state)/policy.weights.dot(policy.state_func(state))\n",
    "    return training_rewards, best_return, best_weights, step_sizes\n",
    "\n",
    "\n",
    "\n",
    "policy = Policy(weights=np.random.random(12), state_func=cartpole_state_func)"
   ]
  },
  {
   "cell_type": "code",
   "execution_count": 3,
   "metadata": {},
   "outputs": [
    {
     "name": "stdout",
     "output_type": "stream",
     "text": [
      "1950: 17.0, step-size: 2.9e-10\r"
     ]
    },
    {
     "data": {
      "image/png": "[encoded data removed]",
      "text/plain": [
       "<matplotlib.figure.Figure at 0x107f2a8d0>"
      ]
     },
     "metadata": {},
     "output_type": "display_data"
    }
   ],
   "source": [
    "step_size_start = 5e-6\n",
    "step_size_end = 1e-12\n",
    "num_episodes = 2000\n",
    "training_rewards, best_return, best_weights, step_sizes = reinforce(policy, env, render_every=50, num_episodes=num_episodes, step_size_start=step_size_start, step_size_end=step_size_end)\n",
    "plt.plot(training_rewards)\n",
    "plt.show()\n",
    "env.close()\n"
   ]
  },
  {
   "cell_type": "markdown",
   "metadata": {},
   "source": [
    "Overall performance is really poor, but occasionally it manages to find an okay set of weights, eg:"
   ]
  },
  {
   "cell_type": "code",
   "execution_count": 4,
   "metadata": {},
   "outputs": [
    {
     "data": {
      "text/plain": [
       "(79.0, array([0.84195908, 0.72629281, 0.63635925, 0.53133389, 0.35589013,\n",
       "        0.64759963, 0.44342972, 0.89042133, 0.95981982, 0.38186492,\n",
       "        0.80422408, 0.52904229]))"
      ]
     },
     "execution_count": 4,
     "metadata": {},
     "output_type": "execute_result"
    }
   ],
   "source": [
    "\n",
    "best_return, best_weights"
   ]
  },
  {
   "cell_type": "code",
   "execution_count": 8,
   "metadata": {},
   "outputs": [],
   "source": [
    "policy.weights = np.array([-0.95455163,  0.13930325, -6.69851751,  0.61900001, 10.44033207,\n",
    "         0.42629127,  0.1821342 ,  0.10251606,  0.38757577,  0.17812744,\n",
    "        -0.23087766,  0.67571064])\n",
    "env.reset()\n",
    "for idx in range(10):\n",
    "    run_episode(policy, env, render=True)\n"
   ]
  }
 ],
 "metadata": {
  "kernelspec": {
   "display_name": "Python 3",
   "language": "python",
   "name": "python3"
  },
  "language_info": {
   "codemirror_mode": {
    "name": "ipython",
    "version": 3
   },
   "file_extension": ".py",
   "mimetype": "text/x-python",
   "name": "python",
   "nbconvert_exporter": "python",
   "pygments_lexer": "ipython3",
   "version": "3.6.2"
  }
 },
 "nbformat": 4,
 "nbformat_minor": 2
}
