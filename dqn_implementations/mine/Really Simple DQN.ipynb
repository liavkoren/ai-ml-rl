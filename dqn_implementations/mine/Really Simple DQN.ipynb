{
 "cells": [
  {
   "cell_type": "code",
   "execution_count": 18,
   "metadata": {},
   "outputs": [
    {
     "name": "stdout",
     "output_type": "stream",
     "text": [
      "\u001b[33mWARN: gym.spaces.Box autodetected dtype as <class 'numpy.float32'>. Please provide explicit dtype.\u001b[0m\n"
     ]
    }
   ],
   "source": [
    "from collections import deque\n",
    "import math\n",
    "import random\n",
    "\n",
    "import keras\n",
    "import gym\n",
    "from matplotlib import pyplot as plt\n",
    "\n",
    "env = gym.make('CartPole-v1')\n",
    "REPLAY_MEMORY_SIZE = 1e5\n",
    "OBSERVATION_SHAPE = env.observation_space.shape\n",
    "NUM_ACTIONS = env.action_space.n\n",
    "DISCOUNT_RATE = 0.99\n",
    "EPSILON_MAX = 1.0\n",
    "EPSILON_MIN = .01\n",
    "ANNEALING_CONST = .001  # aka Lambda\n",
    "MINIBATCH_SIZE = 64\n",
    "\n",
    "class Memory(deque):\n",
    "    def __init__(self, size):\n",
    "        self.size = size\n",
    "\n",
    "    def append(self, thing):\n",
    "        if len(self) > self.size - 1:\n",
    "            self.popleft()\n",
    "        return super().append(thing)\n",
    "\n",
    "    def sample(self, batch_size):\n",
    "        batch_size = min(len(self), batch_size)\n",
    "        return random.sample(self, batch_size)\n",
    "\n",
    "q_network = keras.Sequential()\n",
    "q_network.add(keras.layers.Dense(64, activation='relu', input_shape=OBSERVATION_SHAPE))\n",
    "q_network.add(keras.layers.Dense(NUM_ACTIONS, activation='linear'))    \n",
    "q_network.compile(optimizer=keras.optimizers.Adam(), loss='mse')\n",
    "replay_memory = Memory(REPLAY_MEMORY_SIZE)"
   ]
  },
  {
   "cell_type": "markdown",
   "metadata": {},
   "source": [
    "Note the relu vs linear activation functions for q_network."
   ]
  },
  {
   "cell_type": "code",
   "execution_count": null,
   "metadata": {},
   "outputs": [
    {
     "name": "stdout",
     "output_type": "stream",
     "text": [
      "25.0\n",
      "16.0\n",
      "13.0\n",
      "33.0\n",
      "40.0\n",
      "18.0\n",
      "27.0\n",
      "10.0\n",
      "11.0\n",
      "Starting episode 10 \n",
      "26.0\n",
      "55.0\n",
      "27.0\n",
      "42.0\n",
      "74.0\n",
      "226.0\n",
      "117.0\n",
      "421.0\n",
      "500.0\n",
      "492.0\n",
      "Starting episode 20 \n",
      "324.0\n",
      "500.0\n",
      "482.0\n",
      "500.0\n",
      "414.0\n",
      "500.0\n",
      "487.0\n",
      "423.0\n"
     ]
    }
   ],
   "source": [
    "EPSILON = EPSILON_MAX\n",
    "\n",
    "episode_count = 0\n",
    "reward_hist = [] \n",
    "epsilon_hist = []\n",
    "steps = 0\n",
    "rand_act = []\n",
    "q_net_act = []\n",
    "RENDER = True\n",
    "\n",
    "def replay():\n",
    "    \"\"\"\n",
    "    I leaked scope here, wasted some time.\n",
    "    \"\"\"\n",
    "    \n",
    "    # Bec of the way we've set up the q_network, it gives us Vals for all actions available in one forward \n",
    "    # pass.    \n",
    "    batch = replay_memory.sample(MINIBATCH_SIZE)\n",
    "\n",
    "    # DON'T FORGET TO MAKE THESE ARRAYS... :/\n",
    "    states = np.array([exp[0] for exp in batch])\n",
    "    predictions = q_network.predict(states)\n",
    "\n",
    "    terminal_state = np.zeros(OBSERVATION_SHAPE)\n",
    "    states_ = np.array([exp[3] if exp[3] is not None else terminal_state for exp in batch])\n",
    "    predictions_ = q_network.predict(states_)\n",
    "\n",
    "    y = np.zeros((len(batch), NUM_ACTIONS))\n",
    "    for idx, exp in enumerate(batch):\n",
    "        state, action, reward, state_, terminal = exp\n",
    "        target = predictions[idx]\n",
    "        if state_ is None:\n",
    "            target[action] = reward\n",
    "        else:\n",
    "            target[action] = reward + DISCOUNT_RATE * np.amax(predictions_[idx])\n",
    "        y[idx] = target\n",
    "    q_network.fit(states, y, batch_size=64, epochs=1, verbose=0)  # REMEBER, Q is a func from (state, action) pairs to values. \n",
    "    \n",
    "\n",
    "while episode_count < 150:\n",
    "    episode_done = False\n",
    "    episode_reward = 0\n",
    "    state = env.reset()\n",
    "    episode_count += 1\n",
    "    if episode_count % 10 == 0:\n",
    "        print('Starting episode %s ' % episode_count)\n",
    "    while not episode_done:\n",
    "        EPSILON = EPSILON_MIN + (EPSILON_MAX - EPSILON_MIN) * math.exp(-ANNEALING_CONST * steps)\n",
    "        epsilon_hist.append(EPSILON)\n",
    "        steps += 1\n",
    "        if random.random() < EPSILON:\n",
    "            action = random.randint(0, NUM_ACTIONS-1)\n",
    "            rand_act.append(1)\n",
    "            q_net_act.append(0)\n",
    "        else:\n",
    "            # The hard-coded [0] is sketchy here\n",
    "            action = q_network.predict(state.reshape((1, OBSERVATION_SHAPE[0]))).flatten().argmax()\n",
    "            rand_act.append(0)\n",
    "            q_net_act.append(1)\n",
    "\n",
    "        state_, reward, episode_done, _ = env.step(action)\n",
    "        episode_reward += reward\n",
    "        if RENDER:\n",
    "            env.render()\n",
    "        if episode_done:\n",
    "            state_ = None\n",
    "        replay_memory.append((state, action, reward, state_, episode_done))\n",
    "        replay()\n",
    "        state = state_\n",
    "        if episode_done:\n",
    "            print(episode_reward)\n",
    "            reward_hist.append(episode_reward)\n",
    "            \n"
   ]
  },
  {
   "cell_type": "code",
   "execution_count": 20,
   "metadata": {},
   "outputs": [
    {
     "data": {
      "image/png": "[encoded data removed]",
      "text/plain": [
       "<matplotlib.figure.Figure at 0x1150b4550>"
      ]
     },
     "metadata": {},
     "output_type": "display_data"
    }
   ],
   "source": [
    "plt.plot(reward_hist)\n",
    "plt.show()"
   ]
  },
  {
   "cell_type": "code",
   "execution_count": 5,
   "metadata": {},
   "outputs": [
    {
     "data": {
      "image/png": "[encoded data removed]",
      "text/plain": [
       "<matplotlib.figure.Figure at 0x1160292e8>"
      ]
     },
     "metadata": {},
     "output_type": "display_data"
    }
   ],
   "source": [
    "plt.plot(epsilon_hist)\n",
    "plt.show()"
   ]
  },
  {
   "cell_type": "code",
   "execution_count": 21,
   "metadata": {},
   "outputs": [
    {
     "data": {
      "image/png": "[encoded data removed]",
      "text/plain": [
       "<matplotlib.figure.Figure at 0x1147afc88>"
      ]
     },
     "metadata": {},
     "output_type": "display_data"
    }
   ],
   "source": [
    "plt.plot(rand_act)\n",
    "plt.show()\n"
   ]
  },
  {
   "cell_type": "code",
   "execution_count": 22,
   "metadata": {},
   "outputs": [
    {
     "data": {
      "image/png": "[encoded data removed]",
      "text/plain": [
       "<matplotlib.figure.Figure at 0x1199e0400>"
      ]
     },
     "metadata": {},
     "output_type": "display_data"
    }
   ],
   "source": [
    "plt.plot(q_net_act)\n",
    "plt.show()"
   ]
  },
  {
   "cell_type": "code",
   "execution_count": 8,
   "metadata": {},
   "outputs": [
    {
     "name": "stdout",
     "output_type": "stream",
     "text": [
      "934\n",
      "2012\n"
     ]
    }
   ],
   "source": [
    "print(sum(rand_act))\n",
    "print(sum(q_net_act))"
   ]
  },
  {
   "cell_type": "code",
   "execution_count": 13,
   "metadata": {},
   "outputs": [
    {
     "data": {
      "text/plain": [
       "5399"
      ]
     },
     "execution_count": 13,
     "metadata": {},
     "output_type": "execute_result"
    }
   ],
   "source": [
    "len(replay_memory)"
   ]
  }
 ],
 "metadata": {
  "kernelspec": {
   "display_name": "Python 3",
   "language": "python",
   "name": "python3"
  },
  "language_info": {
   "codemirror_mode": {
    "name": "ipython",
    "version": 3
   },
   "file_extension": ".py",
   "mimetype": "text/x-python",
   "name": "python",
   "nbconvert_exporter": "python",
   "pygments_lexer": "ipython3",
   "version": "3.6.2"
  }
 },
 "nbformat": 4,
 "nbformat_minor": 2
}
