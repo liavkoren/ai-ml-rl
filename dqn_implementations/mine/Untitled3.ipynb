{
 "cells": [
  {
   "cell_type": "code",
   "execution_count": 2,
   "metadata": {},
   "outputs": [
    {
     "name": "stdout",
     "output_type": "stream",
     "text": [
      "0.0029679019872798948\n",
      "0.004639822288087222\n",
      "0.14869725497118286\n",
      "0.00020680854321459096\n",
      "0.00010125913650532235\n",
      "0.19089021956772564\n",
      "0.012233391712382455\n",
      "0.14088794121075002\n",
      "0.006112303517351138\n",
      "7.130644176752267e-07\n"
     ]
    }
   ],
   "source": [
    "from pandas import DataFrame\n",
    "from pandas import concat\n",
    "from keras.models import Sequential\n",
    "from keras.layers import Dense\n",
    "from sklearn.metrics import mean_squared_error\n",
    " \n",
    "# fit MLP to dataset and print error\n",
    "def fit_model(X, y):\n",
    "    # design network\n",
    "    model = Sequential()\n",
    "    model.add(Dense(10, input_dim=1))\n",
    "    model.add(Dense(1))\n",
    "    model.compile(loss='mean_squared_error', optimizer='adam')\n",
    "    # fit network\n",
    "    model.fit(X, y, epochs=100, batch_size=len(X), verbose=0)\n",
    "    # forecast\n",
    "    yhat = model.predict(X, verbose=0)\n",
    "    print(mean_squared_error(y, yhat[:,0]))\n",
    " \n",
    "# create sequence\n",
    "length = 10\n",
    "sequence = [i/float(length) for i in range(length)]\n",
    "# create X/y pairs\n",
    "df = DataFrame(sequence)\n",
    "df = concat([df.shift(1), df], axis=1)\n",
    "df.dropna(inplace=True)\n",
    "# convert to MLP friendly format\n",
    "values = df.values\n",
    "X, y = values[:,0], values[:,1]\n",
    "# repeat experiment\n",
    "repeats = 10\n",
    "for _ in range(repeats):\n",
    "    fit_model(X, y)"
   ]
  },
  {
   "cell_type": "code",
   "execution_count": 3,
   "metadata": {},
   "outputs": [
    {
     "name": "stdout",
     "output_type": "stream",
     "text": [
      "0.16932653217278448\n",
      "2.757506212284829e-05\n",
      "0.018328728141628836\n",
      "1.9355138585320983e-07\n",
      "0.05498711035749172\n",
      "0.09063268180537258\n",
      "0.003375751285569627\n",
      "0.0041485747022687045\n",
      "8.147759094079135e-08\n",
      "0.0522927040981179\n"
     ]
    }
   ],
   "source": [
    "from numpy.random import seed\n",
    "seed(1)\n",
    "\n",
    "for _ in range(repeats):\n",
    "    fit_model(X, y)"
   ]
  },
  {
   "cell_type": "code",
   "execution_count": null,
   "metadata": {},
   "outputs": [],
   "source": [
    "# seed(1)\n",
    "\n",
    "for _ in range(repeats):\n",
    "    fit_model(X, y)"
   ]
  }
 ],
 "metadata": {
  "kernelspec": {
   "display_name": "Python 3",
   "language": "python",
   "name": "python3"
  },
  "language_info": {
   "codemirror_mode": {
    "name": "ipython",
    "version": 3
   },
   "file_extension": ".py",
   "mimetype": "text/x-python",
   "name": "python",
   "nbconvert_exporter": "python",
   "pygments_lexer": "ipython3",
   "version": "3.6.2"
  }
 },
 "nbformat": 4,
 "nbformat_minor": 2
}
