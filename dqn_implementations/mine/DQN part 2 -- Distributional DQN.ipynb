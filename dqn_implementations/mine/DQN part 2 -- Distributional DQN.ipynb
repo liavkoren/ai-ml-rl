{
 "cells": [
  {
   "cell_type": "code",
   "execution_count": 1,
   "metadata": {
    "ExecuteTime": {
     "end_time": "2018-07-19T02:36:36.956006Z",
     "start_time": "2018-07-19T02:36:35.978573Z"
    }
   },
   "outputs": [
    {
     "name": "stdout",
     "output_type": "stream",
     "text": [
      "\u001b[33mWARN: gym.spaces.Box autodetected dtype as <class 'numpy.float32'>. Please provide explicit dtype.\u001b[0m\n",
      "\u001b[33mWARN: gym.spaces.Box autodetected dtype as <class 'numpy.float32'>. Please provide explicit dtype.\u001b[0m\n"
     ]
    }
   ],
   "source": [
    "from collections import deque\n",
    "import math\n",
    "import random\n",
    "\n",
    "import attr\n",
    "import gym\n",
    "from IPython.display import clear_output\n",
    "from matplotlib import pyplot as plt\n",
    "import numpy as np\n",
    "from pytorch_monitor import init_experiment, monitor_module\n",
    "# from smooth import smooth  # timeseries smoothing function\n",
    "import torch\n",
    "from torch import nn\n",
    "import torch.nn.functional as F\n",
    "\n",
    "\n",
    "cartpole = gym.make('CartPole-v1')\n",
    "lunarlander = gym.make('LunarLander-v2')\n",
    "plt.style.use('seaborn-white')\n",
    "\n",
    "if torch.cuda.is_available():\n",
    "    device = 'cuda'\n",
    "else:\n",
    "    device = 'cpu'  "
   ]
  },
  {
   "cell_type": "markdown",
   "metadata": {},
   "source": [
    "# TODO: add device spec for every tensor"
   ]
  },
  {
   "cell_type": "code",
   "execution_count": 2,
   "metadata": {
    "ExecuteTime": {
     "end_time": "2018-07-19T02:36:41.544500Z",
     "start_time": "2018-07-19T02:36:41.161646Z"
    }
   },
   "outputs": [],
   "source": [
    "@attr.s\n",
    "class Memory(deque):\n",
    "    \"\"\" Experience Replay Memory class. \"\"\"\n",
    "    size = attr.ib()\n",
    "    minibatch_size = attr.ib()\n",
    "\n",
    "    def append(self, thing):\n",
    "        if len(self) > self.size - 1:\n",
    "            self.popleft()\n",
    "        return super().append(thing)\n",
    "\n",
    "    def sample(self):\n",
    "        batch_size = min(len(self), self.minibatch_size)\n",
    "        data = random.sample(self, batch_size)\n",
    "        states = torch.stack([record[0] for record in data])\n",
    "        actions = torch.tensor([record[1] for record in data], dtype=torch.long)\n",
    "        rewards = torch.tensor([record[2] for record in data], dtype=torch.float)\n",
    "        states_ = torch.stack([record[3] for record in data])\n",
    "        dones = torch.tensor([record[4] for record in data], dtype=torch.long)\n",
    "        return (states, actions, rewards, states_, dones)\n",
    "\n",
    "\n",
    "class ValueDistribution(torch.nn.Module):\n",
    "    def __init__(self, state_shape, action_shape, vmin, vmax, num_atoms=51, num_hidden1_units=64, num_hidden2_units=64):\n",
    "        super().__init__()\n",
    "        self.state_shape = state_shape\n",
    "        self.action_shape = action_shape\n",
    "        self.vmin = vmin\n",
    "        self.vmax = vmax\n",
    "        self.num_atoms = num_atoms\n",
    "        self.atoms = torch.linspace(self.vmin, self.vmax, self.num_atoms)\n",
    "        self.linear1 = nn.Linear(self.state_shape, num_hidden1_units)\n",
    "        self.linear2 = nn.Linear(num_hidden1_units, num_hidden2_units)\n",
    "        self.linear3 = nn.Linear(num_hidden2_units, num_hidden2_units)\n",
    "        self.linear4 = nn.Linear(num_hidden2_units, self.action_shape * self.num_atoms)\n",
    "        \n",
    "    def forward(self, x):\n",
    "        \"\"\" Return (actions x atoms). \"\"\"\n",
    "        x1 = F.selu(self.linear1(x))\n",
    "        x2 = F.selu(self.linear2(x1))\n",
    "        x3 = F.selu(self.linear3(x2))\n",
    "        x4 = self.linear4(x3).reshape(-1, self.action_shape, self.num_atoms)\n",
    "        out = F.softmax(x4, dim=2)  # (actions x atoms)\n",
    "        if x.dim() == 1:\n",
    "            batch_size = 1\n",
    "        else:\n",
    "            batch_size = x.size(0)\n",
    "        assert out.size() == torch.Size((batch_size, self.action_shape, self.num_atoms))\n",
    "        if hasattr(self, 'monitor'):\n",
    "            self.monitor('x1', x1, track_data=True, track_grad=True)\n",
    "            self.monitor('x2', x2, track_data=True, track_grad=True)\n",
    "            self.monitor('x3', x3, track_data=True, track_grad=True)\n",
    "            self.monitor('x4', x4, track_data=True, track_grad=True)\n",
    "            self.monitor('out', out, track_data=True, track_grad=True)\n",
    "        return out\n",
    "    \n",
    "    def predict_action_values(self, states):\n",
    "        \"\"\" Return (batch-size x actions). \"\"\"\n",
    "        distribution = self.forward(states)\n",
    "        weighted_distribution = distribution * self.atoms\n",
    "        out = weighted_distribution.sum(dim=2).squeeze()  # (batch-size x actions)\n",
    "        dims = states.dim()\n",
    "        assert out.size() == torch.Size((self.action_shape,))\n",
    "        return out\n",
    "        \n",
    "    def get_action(self, state):        \n",
    "        values = self.predict_action_values(state)\n",
    "        action = values.argmax()\n",
    "        return action\n"
   ]
  },
  {
   "cell_type": "code",
   "execution_count": 81,
   "metadata": {
    "ExecuteTime": {
     "end_time": "2018-07-19T14:06:24.207168Z",
     "start_time": "2018-07-19T14:06:24.088129Z"
    },
    "code_folding": []
   },
   "outputs": [],
   "source": [
    "def categorical_vectorized_loss(online_net, target_net, transitions, discount): \n",
    "    states, actions, rewards, states_, dones = transitions\n",
    "    not_dones = (1 - dones).type(torch.FloatTensor)\n",
    "    atoms = target_net.atoms\n",
    "    probabilities = target_net.forward(states_)\n",
    "    Q_x_ = (probabilities * atoms).sum(2)\n",
    "    batch_size = states.shape[0]\n",
    "    assert Q_x_.shape == torch.Size((batch_size, target_net.action_shape)), f'Got: {Q_x_.shape}, expected: {(batch_size, target_net.action_shape)}'\n",
    "    a_star = Q_x_.argmax(dim=1) \n",
    "    assert a_star.shape == torch.Size((batch_size,)), f'Got {a_star.shape}, expected: ((batch_size,))'\n",
    "    \n",
    "    # compute the projected probability:\n",
    "    delta_z = (target_net.vmax - target_net.vmin)/(target_net.num_atoms - 1)    \n",
    "    # select only the probabilities distributions for the a_star actions:\n",
    "    probabilities = probabilities[range(batch_size), a_star]\n",
    "    T_zj = rewards.unsqueeze(1) + discount * atoms * not_dones.unsqueeze(1)\n",
    "    b_j = (T_zj.clamp(target_net.vmin, target_net.vmax) - target_net.vmin) / delta_z  # correct\n",
    "\n",
    "\n",
    "    \n",
    "    lo = b_j.floor()        \n",
    "    hi = b_j.ceil()\n",
    "    m = torch.zeros(batch_size, target_net.num_atoms, dtype=torch.float)\n",
    "    upper = target_net.num_atoms * batch_size - target_net.num_atoms\n",
    "    offset = torch.range(0, upper, target_net.num_atoms).unsqueeze(1).expand_as(m)\n",
    "    lo_idx = lo + offset\n",
    "    hi_idx = hi + offset\n",
    "    lo_component = m.view(-1).index_add(0, lo_idx.view(-1).type(torch.long), (probabilities * (hi - b_j)).view(-1)).resize_as(m)\n",
    "    hi_component = m.view(-1).index_add(0, hi_idx.view(-1).type(torch.long), (probabilities * (b_j - lo)).view(-1)).resize_as(m)\n",
    "    m += lo_component + hi_component       \n",
    "    # return m\n",
    "    # x enthropy is Sigma <true> log <unnatural>, so for us is: target log(online)\n",
    "    online_distribution = online_net.forward(states)[range(batch_size), actions]\n",
    "    return -( m * online_distribution.log() ).sum(1).mean()"
   ]
  },
  {
   "cell_type": "code",
   "execution_count": 84,
   "metadata": {
    "ExecuteTime": {
     "end_time": "2018-07-19T14:08:01.720851Z",
     "start_time": "2018-07-19T14:08:01.104632Z"
    },
    "code_folding": []
   },
   "outputs": [],
   "source": [
    "@attr.s\n",
    "class CategoricalAgent:\n",
    "    env = attr.ib()\n",
    "    discount = attr.ib(default=0.99)\n",
    "    epsilon_max = attr.ib(default=1.0)\n",
    "    epsilon_min = attr.ib(default=0.01)\n",
    "    annealing_const = attr.ib(default=.001)  # aka Lambda\n",
    "    minibatch_size = attr.ib(default=32)\n",
    "    memory_size = attr.ib(default=int(1e6))\n",
    "    num_episodes = attr.ib(default=1000)  # num of episodes in a training epoch\n",
    "    render_every = attr.ib(default=20)  # set to zero to turn off rendering\n",
    "    update_target_every = attr.ib(default=200)\n",
    "    vmin = attr.ib(default=-10)\n",
    "    vmax = attr.ib(default=10)\n",
    "    num_atoms = attr.ib(default=51)\n",
    "    learning_rate = attr.ib(default=0.000001)\n",
    "    monitor_every = attr.ib(default=50)\n",
    "    logger = attr.ib(default=None)\n",
    "    xavier = attr.ib(default=False)\n",
    "    \n",
    "    def __attrs_post_init__(self):\n",
    "        self.steps = 0\n",
    "        state_shape = self.env.observation_space.shape[0]\n",
    "        self.memory = Memory(self.memory_size, self.minibatch_size)\n",
    "        self.action_shape = self.env.action_space.n\n",
    "        self.online_net = ValueDistribution(state_shape=state_shape, action_shape=self.action_shape, vmin=self.vmin, vmax=self.vmax, num_atoms=self.num_atoms)\n",
    "        self.target_net = ValueDistribution(state_shape=state_shape, action_shape=self.action_shape, vmin=self.vmin, vmax=self.vmax, num_atoms=self.num_atoms)\n",
    "        if self.xavier:\n",
    "            gain = nn.init.calculate_gain('relu')\n",
    "            for param in self.online_net.parameters():\n",
    "                if param.dim() < 2:\n",
    "                    continue\n",
    "                nn.init.xavier_normal_(param, gain=gain)\n",
    "        self.target_net.load_state_dict(self.online_net.state_dict())\n",
    "        self.optimizer = torch.optim.Adam(self.online_net.parameters(), lr=self.learning_rate)\n",
    "        self.reset_data_recorders()        \n",
    "\n",
    "    def reset_data_recorders(self):\n",
    "        self.episode_rewards = []\n",
    "        self.episode_losses = []\n",
    "        self.td_errors = []\n",
    "        self.online_net_q_values = []\n",
    "        self.target_net_q_values = []\n",
    "        self.w1_gradient = []\n",
    "        self.w2_gradient = []\n",
    "        self.steps = 0\n",
    "\n",
    "    def render(self, episode):\n",
    "        if self.render_every and episode % self.render_every == 0:\n",
    "            self.env.render()\n",
    "\n",
    "    def training_progress_report(self, episode):\n",
    "        last_ep = self.episode_rewards[-1]\n",
    "        ten_ep_mean = sum(self.episode_rewards[-10:])/len(self.episode_rewards[-10:])\n",
    "        hundred_ep_mean = sum(self.episode_rewards[-100:])/len(self.episode_rewards[-100:])\n",
    "        return f'Ep: {episode} // steps: {self.steps} // last ep reward: {last_ep:.2f} // {min(10, len(self.episode_rewards[-10:]))}-ep mean: {ten_ep_mean:.2f} // {min(100, len(self.episode_rewards[-100:]))}-ep mean: {hundred_ep_mean:.2f}'\n",
    "\n",
    "    def replay(self):\n",
    "        batch = self.memory.sample()\n",
    "        loss = categorical_vectorized_loss(self.online_net, self.target_net, batch, self.discount)\n",
    "        self.optimizer.zero_grad()\n",
    "        loss.backward()\n",
    "        self.optimizer.step()\n",
    "        return loss.item()/self.minibatch_size\n",
    "\n",
    "    def monitor(self):\n",
    "        if self.steps % self.monitor_every == 0:\n",
    "            self.target_net.monitoring(True)\n",
    "        else:\n",
    "            self.target_net.monitoring(False)\n",
    "\n",
    "    def train(self):\n",
    "        for episode in range(self.num_episodes):\n",
    "            episode_done = False\n",
    "            episode_reward = 0\n",
    "            episode_loss = 0\n",
    "            state = torch.tensor(self.env.reset(), dtype=torch.float)\n",
    "            self.target_net_q_values.append(self.target_net.predict_action_values(state).max().item())\n",
    "            if self.steps == 0:\n",
    "                self.logger.add_graph(self.target_net, state)\n",
    "            writer.add_scalar('Target net Q values', self.target_net_q_values[-1], self.steps)                \n",
    "            while not episode_done:\n",
    "                epsilon = self.epsilon_min + (self.epsilon_max - self.epsilon_min) * math.exp(-self.annealing_const * self.steps)\n",
    "                self.steps += 1                \n",
    "                if random.random() < epsilon:\n",
    "                    action = random.randint(0, self.action_shape-1)\n",
    "                else:\n",
    "                    action = self.online_net.get_action(state).item()\n",
    "                self.render(episode)\n",
    "                self.monitor()\n",
    "                state_, reward, episode_done, _ = self.env.step(action)\n",
    "                state_ = torch.tensor(state_, dtype=torch.float)\n",
    "                episode_reward += reward\n",
    "                self.memory.append((state, action, reward, state_, episode_done))\n",
    "                state = state_\n",
    "                if self.steps < 2:\n",
    "                    continue\n",
    "                episode_loss += self.replay()\n",
    "\n",
    "                if self.steps % self.update_target_every == 0:\n",
    "                    self.target_net.load_state_dict(self.online_net.state_dict())\n",
    "                if episode_done:\n",
    "                    self.episode_rewards.append(episode_reward)\n",
    "                    print(self.training_progress_report(episode), end='\\r', flush=True)\n",
    "                    writer.add_scalar('train loss', episode_loss, self.steps)\n",
    "                    writer.add_scalar('episode reward', episode_reward, self.steps)                    \n",
    "        self.env.close()\n",
    "\n",
    "    def test(self):\n",
    "        pass"
   ]
  },
  {
   "cell_type": "code",
   "execution_count": 85,
   "metadata": {
    "ExecuteTime": {
     "end_time": "2018-07-19T14:08:54.835259Z",
     "start_time": "2018-07-19T14:08:04.910720Z"
    }
   },
   "outputs": [
    {
     "data": {
      "text/plain": [
       "{'log_dir': 'categorical-dqn',\n",
       " 'random_seed': 0,\n",
       " 'run_dir': 'categorical-dqn/Jul-19-18@10:08:04-DaydreamNation.local',\n",
       " 'run_name': 'Jul-19-18@10:08:04-DaydreamNation.local',\n",
       " 'tag': 'Experiment Config: Testing Floringo implementation :: Jul-19-18@10:08:04\\n',\n",
       " 'title': 'Testing Floringo implementation'}"
      ]
     },
     "execution_count": 85,
     "metadata": {},
     "output_type": "execute_result"
    },
    {
     "name": "stderr",
     "output_type": "stream",
     "text": [
      "/Users/liavkoren/Envs/ai-gym/lib/python3.6/site-packages/torch/onnx/utils.py:365: UserWarning: ONNX export failed on ATen operator reshape because torch.onnx.symbolic.reshape does not exist\n",
      "  .format(op_name, op_name))\n",
      "/Users/liavkoren/Envs/ai-gym/lib/python3.6/site-packages/torch/tensor.py:260: UserWarning: non-inplace resize_as is deprecated\n",
      "  warnings.warn(\"non-inplace resize_as is deprecated\")\n"
     ]
    },
    {
     "name": "stdout",
     "output_type": "stream",
     "text": [
      "Ep: 399 // steps: 4350 // last ep reward: 9.00 // 10-ep mean: 9.30 // 100-ep mean: 9.40123\r"
     ]
    }
   ],
   "source": [
    "monitor_config = {\n",
    "    'title':'Testing Floringo implementation',\n",
    "    'log_dir':'categorical-dqn',\n",
    "    'random_seed': 0\n",
    "}\n",
    "writer, monitor_config = init_experiment(monitor_config)\n",
    "monitor_config\n",
    "agent = CategoricalAgent(\n",
    "    cartpole, \n",
    "    learning_rate=0.000000001, \n",
    "    logger=writer,\n",
    "    monitor_every=10,\n",
    "    num_episodes=400,\n",
    "    update_target_every=100,  \n",
    "    xavier=False\n",
    ")\n",
    "monitor_module(\n",
    "    agent.target_net, writer, \n",
    "    track_data=True,\n",
    "    track_grad=True,\n",
    "    track_update=True,\n",
    "    track_update_ratio=True\n",
    ")\n",
    "agent.train()"
   ]
  },
  {
   "cell_type": "code",
   "execution_count": 86,
   "metadata": {
    "ExecuteTime": {
     "end_time": "2018-07-19T14:11:27.107494Z",
     "start_time": "2018-07-19T14:11:26.614398Z"
    },
    "code_folding": []
   },
   "outputs": [],
   "source": [
    "arm0 = 2.7\n",
    "arm1 = 5\n",
    "arm2 = -3.4\n",
    "\n",
    "\n",
    "class Bandit:\n",
    "    @staticmethod\n",
    "    def step(action):\n",
    "        if action == 0:\n",
    "            return torch.tensor([0.]), np.random.normal(arm0, .5)\n",
    "        elif action == 1:\n",
    "            return torch.tensor([1.]), np.random.normal(arm1, .5)\n",
    "        elif action == 2:\n",
    "            return torch.tensor([2.]), np.random.normal(arm2, .5)            \n",
    "        else:\n",
    "            raise ValueError('Invalid action', action)\n",
    "            \n",
    "    \n",
    "@attr.s\n",
    "class BanditAgent:\n",
    "    num_arms = attr.ib(default=3)\n",
    "    num_rounds = attr.ib(default=2000)\n",
    "    discount = attr.ib(default=0.99)\n",
    "    epsilon_max = attr.ib(default=1.0)\n",
    "    epsilon_min = attr.ib(default=0.01)\n",
    "    annealing_const = attr.ib(default=.001)  # aka Lambda\n",
    "    minibatch_size = attr.ib(default=32)\n",
    "    memory_size = attr.ib(default=int(1e6))\n",
    "    vmin = attr.ib(default=-5)\n",
    "    vmax = attr.ib(default=5)\n",
    "    num_atoms = attr.ib(default=10)\n",
    "    learning_rate = attr.ib(default=0.00025)\n",
    "    monitor_every = attr.ib(default=5)\n",
    "    logger = attr.ib(default=None)\n",
    "    update_target_every = attr.ib(default=100)\n",
    "    xavier = attr.ib(default=False)\n",
    "\n",
    "    def __attrs_post_init__(self):\n",
    "        self.online_net = ValueDistribution(state_shape=1, action_shape=self.num_arms, vmin=self.vmin, vmax=self.vmax, num_atoms=self.num_atoms, num_hidden1_units=40, num_hidden2_units=40,)\n",
    "        self.target_net = ValueDistribution(state_shape=1, action_shape=self.num_arms, vmin=self.vmin, vmax=self.vmax, num_atoms=self.num_atoms, num_hidden1_units=40, num_hidden2_units=40,)        \n",
    "        if self.xavier:\n",
    "            for param in bandit_agent.online_net.parameters():\n",
    "                if param.dim() < 2:\n",
    "                    continue\n",
    "                nn.init.xavier_normal_(param)        \n",
    "        self.target_net.load_state_dict(self.online_net.state_dict())\n",
    "        self.optimizer = torch.optim.Adam(self.online_net.parameters(), lr=self.learning_rate)\n",
    "        self.reset_data_recorders()\n",
    "        self.memory = Memory(1e6, 32)\n",
    "        \n",
    "    def reset_data_recorders(self):\n",
    "        self.episode_rewards = []\n",
    "        self.episode_losses = []\n",
    "        self.q_values = []\n",
    "        self.steps = 0\n",
    "\n",
    "    def monitor(self):\n",
    "        if self.steps % 20 == 0:\n",
    "            print(f'{self.steps}... ', end='\\r', flush=True)\n",
    "\n",
    "        if self.steps % self.monitor_every == 0:\n",
    "            self.target_net.monitoring(True)\n",
    "        else:\n",
    "            self.target_net.monitoring(False)\n",
    "            \n",
    "            \n",
    "    def replay(self):\n",
    "        batch = self.memory.sample()\n",
    "        loss = categorical_vectorized_loss(self.online_net, self.target_net, batch, self.discount)\n",
    "        self.optimizer.zero_grad()\n",
    "        loss.backward()\n",
    "        self.optimizer.step()\n",
    "        return loss.item()/self.minibatch_size\n",
    "            \n",
    "    def train(self):\n",
    "        state = torch.tensor([1], dtype=torch.float)\n",
    "        for episode in range(self.num_rounds):            \n",
    "            self.q_values.append(self.target_net.predict_action_values(state).max().item())\n",
    "            if self.steps == 0:\n",
    "                self.logger.add_graph(self.target_net, state)\n",
    "            writer.add_scalar('Target net Q values', self.q_values[-1], self.steps)                \n",
    "\n",
    "            epsilon = self.epsilon_min + (self.epsilon_max - self.epsilon_min) * math.exp(-self.annealing_const * self.steps)\n",
    "            self.steps += 1                \n",
    "            if random.random() < epsilon:\n",
    "                action = random.randint(0, self.num_arms-1)\n",
    "            else:\n",
    "                action = self.online_net.get_action(state).item()\n",
    "            self.monitor()\n",
    "            state_, reward = Bandit.step(action)\n",
    "            state_ = torch.tensor(state_, dtype=torch.float)\n",
    "            episode_reward = reward\n",
    "            self.memory.append((state, action, reward, state_, torch.tensor([0])))\n",
    "            episode_loss = self.replay()\n",
    "            state = state_\n",
    "            writer.add_scalar('train loss', episode_loss, self.steps)\n",
    "            writer.add_scalar('episode reward', episode_reward, self.steps)   \n",
    "            \n",
    "            if self.steps % self.update_target_every == 0:\n",
    "                self.target_net.load_state_dict(self.online_net.state_dict())\n",
    "            \n",
    "\n",
    "    def test(self):\n",
    "        pass       \n"
   ]
  },
  {
   "cell_type": "code",
   "execution_count": 87,
   "metadata": {
    "ExecuteTime": {
     "end_time": "2018-07-19T14:12:08.658420Z",
     "start_time": "2018-07-19T14:11:41.931674Z"
    }
   },
   "outputs": [
    {
     "data": {
      "text/plain": [
       "{'log_dir': 'categorical-dqn',\n",
       " 'random_seed': 0,\n",
       " 'run_dir': 'categorical-dqn/Jul-19-18@10:11:41-DaydreamNation.local',\n",
       " 'run_name': 'Jul-19-18@10:11:41-DaydreamNation.local',\n",
       " 'tag': 'Experiment Config: Bandit test :: Jul-19-18@10:11:41\\n',\n",
       " 'title': 'Bandit test'}"
      ]
     },
     "execution_count": 87,
     "metadata": {},
     "output_type": "execute_result"
    },
    {
     "name": "stdout",
     "output_type": "stream",
     "text": [
      "20... \r"
     ]
    },
    {
     "name": "stderr",
     "output_type": "stream",
     "text": [
      "/Users/liavkoren/Envs/ai-gym/lib/python3.6/site-packages/torch/onnx/utils.py:365: UserWarning: ONNX export failed on ATen operator reshape because torch.onnx.symbolic.reshape does not exist\n",
      "  .format(op_name, op_name))\n",
      "/Users/liavkoren/Envs/ai-gym/lib/python3.6/site-packages/torch/tensor.py:260: UserWarning: non-inplace resize_as is deprecated\n",
      "  warnings.warn(\"non-inplace resize_as is deprecated\")\n"
     ]
    },
    {
     "name": "stdout",
     "output_type": "stream",
     "text": [
      "2000... \r"
     ]
    }
   ],
   "source": [
    "\n",
    "\n",
    "monitor_config = {\n",
    "    'title':'Bandit test',\n",
    "    'log_dir':'categorical-dqn',\n",
    "    'random_seed': 0\n",
    "}\n",
    "writer, monitor_config = init_experiment(monitor_config)\n",
    "bandit_agent = BanditAgent(\n",
    "    logger=writer, \n",
    "    learning_rate=0.000001, \n",
    "    num_rounds=2000, \n",
    "    monitor_every=10,\n",
    "    xavier=False,\n",
    ")\n",
    "monitor_config\n",
    "monitor_module(\n",
    "    bandit_agent.target_net, writer, \n",
    "    track_data=True,\n",
    "    track_grad=True,\n",
    "    track_update=True,\n",
    "    track_update_ratio=True\n",
    ")\n",
    "bandit_agent.train()"
   ]
  },
  {
   "cell_type": "code",
   "execution_count": 239,
   "metadata": {
    "ExecuteTime": {
     "end_time": "2018-07-18T21:06:02.666466Z",
     "start_time": "2018-07-18T21:06:02.617869Z"
    }
   },
   "outputs": [
    {
     "data": {
      "text/plain": [
       "2.7"
      ]
     },
     "execution_count": 239,
     "metadata": {},
     "output_type": "execute_result"
    },
    {
     "data": {
      "text/plain": [
       "5"
      ]
     },
     "execution_count": 239,
     "metadata": {},
     "output_type": "execute_result"
    },
    {
     "data": {
      "text/plain": [
       "-3.4"
      ]
     },
     "execution_count": 239,
     "metadata": {},
     "output_type": "execute_result"
    },
    {
     "data": {
      "text/plain": [
       "tensor([ 0.2444,  0.1126, -0.1673])"
      ]
     },
     "execution_count": 239,
     "metadata": {},
     "output_type": "execute_result"
    },
    {
     "data": {
      "text/plain": [
       "tensor([ 0.1686, -0.0084, -0.2471])"
      ]
     },
     "execution_count": 239,
     "metadata": {},
     "output_type": "execute_result"
    },
    {
     "data": {
      "text/plain": [
       "tensor([ 0.0947, -0.1132, -0.3562])"
      ]
     },
     "execution_count": 239,
     "metadata": {},
     "output_type": "execute_result"
    },
    {
     "data": {
      "text/plain": [
       "tensor(2.7388)"
      ]
     },
     "execution_count": 239,
     "metadata": {},
     "output_type": "execute_result"
    },
    {
     "data": {
      "text/plain": [
       "tensor(4.8597)"
      ]
     },
     "execution_count": 239,
     "metadata": {},
     "output_type": "execute_result"
    },
    {
     "data": {
      "text/plain": [
       "tensor(-3.7678)"
      ]
     },
     "execution_count": 239,
     "metadata": {},
     "output_type": "execute_result"
    }
   ],
   "source": [
    "arm0\n",
    "arm1\n",
    "arm2\n",
    "\n",
    "bandit_agent.target_net.predict_action_values(torch.tensor([0], dtype=torch.float))\n",
    "bandit_agent.target_net.predict_action_values(torch.tensor([1], dtype=torch.float))\n",
    "bandit_agent.target_net.predict_action_values(torch.tensor([2], dtype=torch.float))\n",
    "\n",
    "\n",
    "states, actions, rewards, states_, _ = bandit_agent.memory.sample()\n",
    "rewards[states_.squeeze() == 0].mean()\n",
    "rewards[states_.squeeze() == 1].mean()\n",
    "rewards[states_.squeeze() == 2].mean()"
   ]
  },
  {
   "cell_type": "code",
   "execution_count": 210,
   "metadata": {
    "ExecuteTime": {
     "end_time": "2018-07-18T20:51:34.266177Z",
     "start_time": "2018-07-18T20:51:34.254549Z"
    }
   },
   "outputs": [
    {
     "data": {
      "text/plain": [
       "Parameter containing:\n",
       "tensor([[-9.9555e-02, -1.2363e-01, -1.2882e-01,  ...,  4.8230e-02,\n",
       "         -4.9638e-03,  1.2081e-01],\n",
       "        [ 2.0693e-02, -1.5338e-01, -1.3020e-01,  ..., -1.2003e-01,\n",
       "         -1.0695e-01, -1.5849e-01],\n",
       "        [ 1.1170e-01,  1.3800e-01, -5.7310e-02,  ..., -1.1644e-01,\n",
       "          2.8391e-02,  1.4304e-01],\n",
       "        ...,\n",
       "        [-4.2989e-02, -1.1564e-01,  1.4043e-01,  ..., -3.2616e-02,\n",
       "         -2.2832e-02,  1.5632e-01],\n",
       "        [ 2.0642e-02,  1.0494e-01,  9.0590e-02,  ..., -7.3867e-02,\n",
       "          1.2260e-01, -2.3937e-02],\n",
       "        [ 6.5399e-02, -2.7890e-02, -1.7782e-02,  ...,  4.1532e-02,\n",
       "         -1.2335e-01, -5.9142e-02]])"
      ]
     },
     "execution_count": 210,
     "metadata": {},
     "output_type": "execute_result"
    },
    {
     "data": {
      "text/plain": [
       "tensor(518.3018)"
      ]
     },
     "execution_count": 210,
     "metadata": {},
     "output_type": "execute_result"
    }
   ],
   "source": [
    "bandit_agent.target_net.linear4.weight\n",
    "bandit_agent.target_net.linear4.weight.grad.norm()"
   ]
  },
  {
   "cell_type": "code",
   "execution_count": 6,
   "metadata": {
    "ExecuteTime": {
     "end_time": "2018-07-19T02:37:23.528678Z",
     "start_time": "2018-07-19T02:37:23.468165Z"
    }
   },
   "outputs": [],
   "source": [
    "import others_people_categorical as others\n",
    "\n",
    "# Speed and sanity checks:\n",
    "states = torch.tensor([    \n",
    "    [1.0, 2, 3, 4, 5, 6, 7, 8],\n",
    "    [-4, -3, -1, -5, -5,  3,  1,  3],\n",
    "    [ 4,  1, -3, -5,  1, -4, -2, -4],\n",
    "])\n",
    "actions = torch.tensor([0, 4, 1]) # num actions: 5\n",
    "rewards = torch.tensor([-7.0,  4,  3,])\n",
    "dones = torch.tensor([1, 0, 0], dtype=torch.long)\n",
    "states_ = states + 1\n",
    "many_transition = (states, actions, rewards, states_, dones, )\n",
    "\n",
    "num_atoms = 11\n",
    "vmin = -10\n",
    "vmax = 10 \n",
    "action_shape = 5\n",
    "\n",
    "random.seed(0)\n",
    "np.random.seed(0)  \n",
    "online_net = ValueDistribution(state_shape=8, action_shape=action_shape, vmin=vmin, vmax=vmax, num_atoms=num_atoms, num_hidden1_units=7, num_hidden2_units=7)\n",
    "target_net = ValueDistribution(state_shape=8, action_shape=action_shape, vmin=vmin, vmax=vmax, num_atoms=num_atoms, num_hidden1_units=7, num_hidden2_units=7)\n",
    "target_net.load_state_dict(online_net.state_dict())\n",
    "discount = 0.95"
   ]
  },
  {
   "cell_type": "code",
   "execution_count": 80,
   "metadata": {
    "ExecuteTime": {
     "end_time": "2018-07-19T14:06:09.375308Z",
     "start_time": "2018-07-19T14:05:50.086814Z"
    }
   },
   "outputs": [
    {
     "data": {
      "text/plain": [
       "'--Mine vect--'"
      ]
     },
     "execution_count": 80,
     "metadata": {},
     "output_type": "execute_result"
    },
    {
     "name": "stderr",
     "output_type": "stream",
     "text": [
      "/Users/liavkoren/Envs/ai-gym/lib/python3.6/site-packages/torch/tensor.py:260: UserWarning: non-inplace resize_as is deprecated\n",
      "  warnings.warn(\"non-inplace resize_as is deprecated\")\n"
     ]
    },
    {
     "name": "stdout",
     "output_type": "stream",
     "text": [
      "636 µs ± 133 µs per loop (mean ± std. dev. of 7 runs, 1000 loops each)\n"
     ]
    },
    {
     "data": {
      "text/plain": [
       "\"--Higgs'--\""
      ]
     },
     "execution_count": 80,
     "metadata": {},
     "output_type": "execute_result"
    },
    {
     "name": "stdout",
     "output_type": "stream",
     "text": [
      "281 µs ± 4.31 µs per loop (mean ± std. dev. of 7 runs, 1000 loops each)\n"
     ]
    },
    {
     "data": {
      "text/plain": [
       "\"--Hengyuan-hu's--\""
      ]
     },
     "execution_count": 80,
     "metadata": {},
     "output_type": "execute_result"
    },
    {
     "name": "stderr",
     "output_type": "stream",
     "text": [
      "/Users/liavkoren/AI Curriculum/dqn_implementations/mine/others_people_categorical.py:309: UserWarning: volatile was removed and now has no effect. Use `with torch.no_grad():` instead.\n",
      "  next_states = Variable(next_states, volatile=True)\n"
     ]
    },
    {
     "name": "stdout",
     "output_type": "stream",
     "text": [
      "1.07 ms ± 7.4 µs per loop (mean ± std. dev. of 7 runs, 1000 loops each)\n"
     ]
    },
    {
     "data": {
      "text/plain": [
       "\"--Floringo's--\""
      ]
     },
     "execution_count": 80,
     "metadata": {},
     "output_type": "execute_result"
    },
    {
     "name": "stdout",
     "output_type": "stream",
     "text": [
      "362 µs ± 5.25 µs per loop (mean ± std. dev. of 7 runs, 1000 loops each)\n"
     ]
    }
   ],
   "source": [
    "# Timing:\n",
    "\n",
    "# '--Mine unvect--'\n",
    "# \"%timeit mine = categorical_loss(online_net, target_net, many_transition, discount)\"\n",
    "\n",
    "'--Mine vect--'\n",
    "%timeit mine_vectorize = categorical_vectorized_loss(online_net, target_net, many_transition, discount)\n",
    "\n",
    "\"--Higgs'--\"\n",
    "%timeit others.projection_distribution(target_net, states, rewards, dones.type(torch.float), discount)\n",
    "\n",
    "\"--Hengyuan-hu's--\"\n",
    "agent = others.DistributionalDQNAgent(online_net, False, action_shape, num_atoms, online_net.vmin, online_net.vmax)\n",
    "not_dones = (~dones.type(torch.ByteTensor)).type(torch.FloatTensor)\n",
    "%timeit agent.compute_targets(rewards, states_, not_dones, discount)\n",
    "\n",
    "\"--Floringo's--\"\n",
    "floringo_agent = others.CategoricalPolicyImprovement(online_net, target_net, v_min=vmin, v_max=vmax, atoms_no=num_atoms, batch_size=32)\n",
    "%timeit m = floringo_agent._get_categorical(states_, rewards.unsqueeze(1), (1 - dones).unsqueeze(1))"
   ]
  },
  {
   "cell_type": "code",
   "execution_count": 78,
   "metadata": {
    "ExecuteTime": {
     "end_time": "2018-07-19T14:02:42.900570Z",
     "start_time": "2018-07-19T14:00:32.755387Z"
    },
    "scrolled": false
   },
   "outputs": [
    {
     "name": "stderr",
     "output_type": "stream",
     "text": [
      "/Users/liavkoren/Envs/ai-gym/lib/python3.6/site-packages/torch/tensor.py:260: UserWarning: non-inplace resize_as is deprecated\n",
      "  warnings.warn(\"non-inplace resize_as is deprecated\")\n"
     ]
    },
    {
     "name": "stdout",
     "output_type": "stream",
     "text": [
      "[21] > \u001b[33;01m<ipython-input-77-c020e9f87e77>\u001b[00m(\u001b[36;01m32\u001b[00m)categorical_vectorized_loss()\n",
      "-> return m\n",
      "(Pdb++) m\n",
      "tensor([[ 0.0000,  0.5000,  0.5000,  0.0000,  0.0000,  0.0000,  0.0000,\n",
      "          0.0000,  0.0000,  0.0000,  0.0000],\n",
      "        [ 0.0000,  0.0000,  0.0332,  0.0760,  0.1341,  0.1070,  0.0724,\n",
      "          0.0057,  0.0502,  0.0643,  0.0987],\n",
      "        [ 0.0000,  0.0138,  0.0635,  0.0768,  0.0810,  0.0759,  0.0595,\n",
      "          0.1071,  0.1537,  0.1395,  0.0426]])\n",
      "(Pdb++) b_j\n",
      "tensor([[  1.5000,   1.5000,   1.5000,   1.5000,   1.5000,   1.5000,\n",
      "           1.5000,   1.5000,   1.5000,   1.5000,   1.5000],\n",
      "        [  2.2500,   3.2000,   4.1500,   5.1000,   6.0500,   7.0000,\n",
      "           7.9500,   8.9000,   9.8500,  10.0000,  10.0000],\n",
      "        [  1.7500,   2.7000,   3.6500,   4.6000,   5.5500,   6.5000,\n",
      "           7.4500,   8.4000,   9.3500,  10.0000,  10.0000]])\n",
      "(Pdb++) lo\n",
      "tensor([[  1.,   1.,   1.,   1.,   1.,   1.,   1.,   1.,   1.,   1.,\n",
      "           1.],\n",
      "        [  2.,   3.,   4.,   5.,   6.,   7.,   7.,   8.,   9.,  10.,\n",
      "          10.],\n",
      "        [  1.,   2.,   3.,   4.,   5.,   6.,   7.,   8.,   9.,  10.,\n",
      "          10.]])\n",
      "(Pdb++) hi\n",
      "tensor([[  2.,   2.,   2.,   2.,   2.,   2.,   2.,   2.,   2.,   2.,\n",
      "           2.],\n",
      "        [  3.,   4.,   5.,   6.,   7.,   7.,   8.,   9.,  10.,  10.,\n",
      "          10.],\n",
      "        [  2.,   3.,   4.,   5.,   6.,   7.,   8.,   9.,  10.,  10.,\n",
      "          10.]])\n",
      "(Pdb++) l\n",
      " \u001b[34;01m27\u001b[39;49;00m  \t    hi_idx = hi + offset\n",
      " \u001b[34;01m28\u001b[39;49;00m  \t    lo_component = m.view(-\u001b[34;01m1\u001b[39;49;00m).index_add(\u001b[34;01m0\u001b[39;49;00m, lo_idx.view(-\u001b[34;01m1\u001b[39;49;00m).type(torch.long), (probabilities * (hi - b_j)).view(-\u001b[34;01m1\u001b[39;49;00m)).resize_as(m)\n",
      " \u001b[34;01m29\u001b[39;49;00m  \t    hi_component = m.view(-\u001b[34;01m1\u001b[39;49;00m).index_add(\u001b[34;01m0\u001b[39;49;00m, hi_idx.view(-\u001b[34;01m1\u001b[39;49;00m).type(torch.long), (probabilities * (b_j - lo)).view(-\u001b[34;01m1\u001b[39;49;00m)).resize_as(m)\n",
      " \u001b[34;01m30\u001b[39;49;00m  \t    m += lo_component + hi_component\n",
      " \u001b[34;01m31\u001b[39;49;00m  \t    \u001b[34;01mimport\u001b[39;49;00m \u001b[04m\u001b[36;01mpdb\u001b[39;49;00m; pdb.set_trace()\n",
      " \u001b[34;01m32\u001b[39;49;00m  ->\t    \u001b[34;01mreturn\u001b[39;49;00m m\n",
      " \u001b[34;01m33\u001b[39;49;00m  \t    \u001b[30;01m# x enthropy is Sigma <true> log <unnatural>, so for us is: target log(online)\u001b[39;49;00m\n",
      " \u001b[34;01m34\u001b[39;49;00m  \t    online_distribution = online_net.forward(states)[\u001b[36;01mrange\u001b[39;49;00m(batch_size), actions]\n",
      " \u001b[34;01m35\u001b[39;49;00m  \t    \u001b[34;01mreturn\u001b[39;49;00m -( m * online_distribution.log() ).sum(\u001b[34;01m1\u001b[39;49;00m).mean()\n",
      "[EOF]\n",
      "(Pdb++) (probabilities * (hi - b_j)\n",
      "*** SyntaxError: unexpected EOF while parsing\n",
      "(Pdb++) (probabilities * (hi - b_j))\n",
      "tensor([[ 0.0155,  0.0228,  0.0596,  0.0326,  0.0227,  0.0625,  0.0225,\n",
      "          0.0449,  0.0179,  0.0710,  0.1279],\n",
      "        [ 0.0332,  0.0650,  0.1178,  0.0863,  0.0628,  0.0000,  0.0024,\n",
      "          0.0052,  0.0174,  0.0000,  0.0000],\n",
      "        [ 0.0138,  0.0222,  0.0250,  0.0345,  0.0241,  0.0300,  0.0771,\n",
      "          0.0906,  0.0791,  0.0000,  0.0000]])\n",
      "(Pdb++) (probabilities * (b_j - lo))\n",
      "tensor([[ 0.0155,  0.0228,  0.0596,  0.0326,  0.0227,  0.0625,  0.0225,\n",
      "          0.0449,  0.0179,  0.0710,  0.1279],\n",
      "        [ 0.0111,  0.0162,  0.0208,  0.0096,  0.0033,  0.0000,  0.0450,\n",
      "          0.0469,  0.0987,  0.0000,  0.0000],\n",
      "        [ 0.0413,  0.0518,  0.0464,  0.0518,  0.0295,  0.0300,  0.0631,\n",
      "          0.0604,  0.0426,  0.0000,  0.0000]])\n",
      "(Pdb++) c\n"
     ]
    },
    {
     "data": {
      "text/plain": [
       "'--Mine vectorized--'"
      ]
     },
     "execution_count": 78,
     "metadata": {},
     "output_type": "execute_result"
    },
    {
     "data": {
      "text/plain": [
       "tensor([[ 0.0000,  0.5000,  0.5000,  0.0000,  0.0000,  0.0000,  0.0000,\n",
       "          0.0000,  0.0000,  0.0000,  0.0000],\n",
       "        [ 0.0000,  0.0000,  0.0332,  0.0760,  0.1341,  0.1070,  0.0724,\n",
       "          0.0057,  0.0502,  0.0643,  0.0987],\n",
       "        [ 0.0000,  0.0138,  0.0635,  0.0768,  0.0810,  0.0759,  0.0595,\n",
       "          0.1071,  0.1537,  0.1395,  0.0426]])"
      ]
     },
     "execution_count": 78,
     "metadata": {},
     "output_type": "execute_result"
    },
    {
     "data": {
      "text/plain": [
       "\"--Higgs'--\""
      ]
     },
     "execution_count": 78,
     "metadata": {},
     "output_type": "execute_result"
    },
    {
     "data": {
      "text/plain": [
       "\"--Hengyuan-hu's--\""
      ]
     },
     "execution_count": 78,
     "metadata": {},
     "output_type": "execute_result"
    },
    {
     "name": "stderr",
     "output_type": "stream",
     "text": [
      "/Users/liavkoren/AI Curriculum/dqn_implementations/mine/others_people_categorical.py:309: UserWarning: volatile was removed and now has no effect. Use `with torch.no_grad():` instead.\n",
      "  next_states = Variable(next_states, volatile=True)\n"
     ]
    },
    {
     "data": {
      "text/plain": [
       "tensor([[ 0.0000,  0.5000,  0.5000,  0.0000,  0.0000,  0.0000,  0.0000,\n",
       "          0.0000,  0.0000,  0.0000,  0.0000],\n",
       "        [ 0.0000,  0.0000,  0.0332,  0.0760,  0.1341,  0.1070,  0.0724,\n",
       "          0.0884,  0.0502,  0.0643,  0.3744],\n",
       "        [ 0.0000,  0.0138,  0.0635,  0.0768,  0.0810,  0.0759,  0.0595,\n",
       "          0.1071,  0.1537,  0.1395,  0.2294]])"
      ]
     },
     "execution_count": 78,
     "metadata": {},
     "output_type": "execute_result"
    },
    {
     "data": {
      "text/plain": [
       "\"--Floringo's--\""
      ]
     },
     "execution_count": 78,
     "metadata": {},
     "output_type": "execute_result"
    },
    {
     "data": {
      "text/plain": [
       "tensor([[ 0.0000,  0.5000,  0.5000,  0.0000,  0.0000,  0.0000,  0.0000,\n",
       "          0.0000,  0.0000,  0.0000,  0.0000],\n",
       "        [ 0.0000,  0.0000,  0.0332,  0.0760,  0.1341,  0.1070,  0.0724,\n",
       "          0.0884,  0.0502,  0.0643,  0.3744],\n",
       "        [ 0.0000,  0.0138,  0.0635,  0.0768,  0.0810,  0.0759,  0.0595,\n",
       "          0.1071,  0.1537,  0.1395,  0.2294]])"
      ]
     },
     "execution_count": 78,
     "metadata": {},
     "output_type": "execute_result"
    }
   ],
   "source": [
    "\n",
    "\n",
    "discount = 0.95\n",
    "\n",
    "mine_vectorize = categorical_vectorized_loss(online_net, target_net, many_transition, discount)\n",
    "'--Mine vectorized--'\n",
    "mine_vectorize\n",
    "\n",
    "\n",
    "\"--Higgs'--\"\n",
    "#higgs = others.projection_distribution(target_net, states, rewards, dones.type(torch.float), discount)\n",
    "#higgs\n",
    "\n",
    "\"--Hengyuan-hu's--\"\n",
    "agent = others.DistributionalDQNAgent(online_net, False, action_shape, num_atoms, online_net.vmin, online_net.vmax)\n",
    "not_dones = (~dones.type(torch.ByteTensor)).type(torch.FloatTensor)\n",
    "heng = agent.compute_targets(rewards, states_, not_dones, discount)\n",
    "heng\n",
    "\n",
    "\"--Floringo's--\"\n",
    "floringo_agent = others.CategoricalPolicyImprovement(online_net, target_net, v_min=vmin, v_max=vmax, atoms_no=num_atoms, batch_size=3)\n",
    "floringos = floringo_agent._get_categorical(states_, rewards.unsqueeze(1), (1 - dones).unsqueeze(1))\n",
    "floringos"
   ]
  },
  {
   "cell_type": "code",
   "execution_count": 61,
   "metadata": {
    "ExecuteTime": {
     "end_time": "2018-07-19T13:25:49.428006Z",
     "start_time": "2018-07-19T13:25:37.738859Z"
    }
   },
   "outputs": [
    {
     "name": "stdout",
     "output_type": "stream",
     "text": [
      "> \u001b[0;32m<ipython-input-59-bcfd1aab630c>\u001b[0m(57)\u001b[0;36mcategorical_vectorized_loss2\u001b[0;34m()\u001b[0m\n",
      "\u001b[0;32m     55 \u001b[0;31m    \u001b[0mlo\u001b[0m \u001b[0;34m+=\u001b[0m \u001b[0moffset\u001b[0m\u001b[0;34m\u001b[0m\u001b[0m\n",
      "\u001b[0m\u001b[0;32m     56 \u001b[0;31m    \u001b[0mhi\u001b[0m \u001b[0;34m+=\u001b[0m \u001b[0moffset\u001b[0m\u001b[0;34m\u001b[0m\u001b[0m\n",
      "\u001b[0m\u001b[0;32m---> 57 \u001b[0;31m    \u001b[0mm\u001b[0m \u001b[0;34m+=\u001b[0m \u001b[0mm\u001b[0m\u001b[0;34m.\u001b[0m\u001b[0mview\u001b[0m\u001b[0;34m(\u001b[0m\u001b[0;34m-\u001b[0m\u001b[0;36m1\u001b[0m\u001b[0;34m)\u001b[0m\u001b[0;34m.\u001b[0m\u001b[0mindex_add\u001b[0m\u001b[0;34m(\u001b[0m\u001b[0;36m0\u001b[0m\u001b[0;34m,\u001b[0m \u001b[0mlo\u001b[0m\u001b[0;34m.\u001b[0m\u001b[0mview\u001b[0m\u001b[0;34m(\u001b[0m\u001b[0;34m-\u001b[0m\u001b[0;36m1\u001b[0m\u001b[0;34m)\u001b[0m\u001b[0;34m.\u001b[0m\u001b[0mtype\u001b[0m\u001b[0;34m(\u001b[0m\u001b[0mtorch\u001b[0m\u001b[0;34m.\u001b[0m\u001b[0mlong\u001b[0m\u001b[0;34m)\u001b[0m\u001b[0;34m,\u001b[0m \u001b[0;34m(\u001b[0m\u001b[0mprobabilities\u001b[0m \u001b[0;34m*\u001b[0m \u001b[0;34m(\u001b[0m\u001b[0mhi\u001b[0m \u001b[0;34m-\u001b[0m \u001b[0mb_j\u001b[0m\u001b[0;34m)\u001b[0m\u001b[0;34m)\u001b[0m\u001b[0;34m.\u001b[0m\u001b[0mview\u001b[0m\u001b[0;34m(\u001b[0m\u001b[0;34m-\u001b[0m\u001b[0;36m1\u001b[0m\u001b[0;34m)\u001b[0m\u001b[0;34m)\u001b[0m\u001b[0;34m\u001b[0m\u001b[0m\n",
      "\u001b[0m\u001b[0;32m     58 \u001b[0;31m    \u001b[0mm\u001b[0m \u001b[0;34m+=\u001b[0m \u001b[0mm\u001b[0m\u001b[0;34m.\u001b[0m\u001b[0mview\u001b[0m\u001b[0;34m(\u001b[0m\u001b[0;34m-\u001b[0m\u001b[0;36m1\u001b[0m\u001b[0;34m)\u001b[0m\u001b[0;34m.\u001b[0m\u001b[0mindex_add\u001b[0m\u001b[0;34m(\u001b[0m\u001b[0;36m0\u001b[0m\u001b[0;34m,\u001b[0m \u001b[0mhi\u001b[0m\u001b[0;34m.\u001b[0m\u001b[0mview\u001b[0m\u001b[0;34m(\u001b[0m\u001b[0;34m-\u001b[0m\u001b[0;36m1\u001b[0m\u001b[0;34m)\u001b[0m\u001b[0;34m.\u001b[0m\u001b[0mtype\u001b[0m\u001b[0;34m(\u001b[0m\u001b[0mtorch\u001b[0m\u001b[0;34m.\u001b[0m\u001b[0mlong\u001b[0m\u001b[0;34m)\u001b[0m\u001b[0;34m,\u001b[0m \u001b[0;34m(\u001b[0m\u001b[0mprobabilities\u001b[0m \u001b[0;34m*\u001b[0m \u001b[0;34m(\u001b[0m\u001b[0mb_j\u001b[0m \u001b[0;34m-\u001b[0m \u001b[0mlo\u001b[0m\u001b[0;34m)\u001b[0m\u001b[0;34m)\u001b[0m\u001b[0;34m.\u001b[0m\u001b[0mview\u001b[0m\u001b[0;34m(\u001b[0m\u001b[0;34m-\u001b[0m\u001b[0;36m1\u001b[0m\u001b[0;34m)\u001b[0m\u001b[0;34m)\u001b[0m\u001b[0;34m\u001b[0m\u001b[0m\n",
      "\u001b[0m\u001b[0;32m     59 \u001b[0;31m\u001b[0;34m\u001b[0m\u001b[0m\n",
      "\u001b[0m\n",
      "ipdb> m.view(-1).index_add(0, lo.view(-1).type(torch.long), (probabilities * (hi - b_j)).view(-1))\n",
      "tensor([ 0.0000,  0.5000,  0.0000,  0.0000,  0.0000,  0.0000,  0.0000,\n",
      "         0.0000,  0.0000,  0.0000,  0.0000,  0.0000,  0.0000,  0.5194,\n",
      "         0.9583,  1.6428,  1.1405,  0.7898,  1.4337,  0.5779,  1.2949,\n",
      "         3.0327,  0.0000,  1.2239,  1.6499,  1.5962,  1.9339,  1.2030,\n",
      "         1.3497,  3.1617,  3.4133,  2.7555,  4.1093])\n",
      "ipdb> c\n"
     ]
    }
   ],
   "source": [
    "%debug"
   ]
  },
  {
   "cell_type": "code",
   "execution_count": 48,
   "metadata": {
    "ExecuteTime": {
     "end_time": "2018-07-19T10:40:43.979121Z",
     "start_time": "2018-07-19T10:40:43.901200Z"
    }
   },
   "outputs": [],
   "source": [
    "states, actions, rewards, states_, dones = many_transition\n",
    "\n",
    "def categorical_loss(online_net, target_net, transitions, discount): \n",
    "    states, actions, rewards, states_, dones = transitions\n",
    "    not_dones = (1 - dones).type(torch.FloatTensor)\n",
    "    atoms = target_net.atoms\n",
    "    probabilities = target_net.forward(states_)\n",
    "\n",
    "    Q_x_ = (probabilities * atoms).sum(2)\n",
    "\n",
    "\n",
    "    batch_size = states.shape[0]\n",
    "    assert Q_x_.shape == torch.Size((batch_size, target_net.action_shape)), f'Got: {Q_x_.shape}, expected: {(batch_size, target_net.action_shape)}'\n",
    "    a_star = Q_x_.argmax(dim=1) \n",
    "    assert a_star.shape == torch.Size((batch_size,)), f'Got {a_star.shape}, expected: ((batch_size,))'\n",
    "\n",
    "    # compute the projected probability:\n",
    "    delta_z = (target_net.vmax - target_net.vmin)/(target_net.num_atoms - 1)    \n",
    "    # select only the probabilities distributions for the a_star actions:\n",
    "    probabilities = probabilities[range(batch_size), a_star]\n",
    "    m = torch.zeros(batch_size, target_net.num_atoms, dtype=torch.float)\n",
    "    for idx, atom in enumerate(atoms):\n",
    "        T_zj = rewards.unsqueeze(1) + discount * atom * not_dones.unsqueeze(1)\n",
    "        T_zj = T_zj.clamp(target_net.vmin, target_net.vmax)\n",
    "        b_j = (T_zj - target_net.vmin)/delta_z\n",
    "        lo = b_j.floor()\n",
    "        hi = b_j.ceil()\n",
    "        \n",
    "        m[:, lo.type(torch.long)] += ((probabilities * (hi - b_j))[:, idx]).unsqueeze(1)\n",
    "        m[:, hi.type(torch.long)] += ((probabilities * (b_j - lo))[:, idx]).unsqueeze(1)\n",
    "    return m"
   ]
  }
 ],
 "metadata": {
  "kernelspec": {
   "display_name": "Python 3",
   "language": "python",
   "name": "python3"
  },
  "language_info": {
   "codemirror_mode": {
    "name": "ipython",
    "version": 3
   },
   "file_extension": ".py",
   "mimetype": "text/x-python",
   "name": "python",
   "nbconvert_exporter": "python",
   "pygments_lexer": "ipython3",
   "version": "3.6.2"
  },
  "latex_envs": {
   "LaTeX_envs_menu_present": true,
   "autoclose": true,
   "autocomplete": true,
   "bibliofile": "biblio.bib",
   "cite_by": "apalike",
   "current_citInitial": 1,
   "eqLabelWithNumbers": true,
   "eqNumInitial": 1,
   "hotkeys": {
    "equation": "Ctrl-E",
    "itemize": "Ctrl-I"
   },
   "labels_anchors": false,
   "latex_user_defs": false,
   "report_style_numbering": false,
   "user_envs_cfg": false
  },
  "toc": {
   "base_numbering": 1,
   "nav_menu": {},
   "number_sections": true,
   "sideBar": true,
   "skip_h1_title": false,
   "title_cell": "Table of Contents",
   "title_sidebar": "Contents",
   "toc_cell": false,
   "toc_position": {},
   "toc_section_display": true,
   "toc_window_display": false
  },
  "varInspector": {
   "cols": {
    "lenName": 16,
    "lenType": 16,
    "lenVar": 40
   },
   "kernels_config": {
    "python": {
     "delete_cmd_postfix": "",
     "delete_cmd_prefix": "del ",
     "library": "var_list.py",
     "varRefreshCmd": "print(var_dic_list())"
    },
    "r": {
     "delete_cmd_postfix": ") ",
     "delete_cmd_prefix": "rm(",
     "library": "var_list.r",
     "varRefreshCmd": "cat(var_dic_list()) "
    }
   },
   "types_to_exclude": [
    "module",
    "function",
    "builtin_function_or_method",
    "instance",
    "_Feature"
   ],
   "window_display": false
  }
 },
 "nbformat": 4,
 "nbformat_minor": 2
}
