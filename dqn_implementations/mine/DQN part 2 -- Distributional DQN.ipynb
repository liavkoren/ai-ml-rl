{
 "cells": [
  {
   "cell_type": "code",
   "execution_count": 573,
   "metadata": {
    "ExecuteTime": {
     "end_time": "2018-07-17T00:31:51.112780Z",
     "start_time": "2018-07-17T00:31:50.766614Z"
    }
   },
   "outputs": [
    {
     "name": "stdout",
     "output_type": "stream",
     "text": [
      "\u001b[33mWARN: gym.spaces.Box autodetected dtype as <class 'numpy.float32'>. Please provide explicit dtype.\u001b[0m\n",
      "\u001b[33mWARN: gym.spaces.Box autodetected dtype as <class 'numpy.float32'>. Please provide explicit dtype.\u001b[0m\n"
     ]
    }
   ],
   "source": [
    "from collections import deque\n",
    "import random\n",
    "\n",
    "import attr\n",
    "import gym\n",
    "from IPython.display import clear_output\n",
    "from matplotlib import pyplot as plt\n",
    "import numpy as np\n",
    "from pytorch_monitor import init_experiment, monitor_module\n",
    "# from smooth import smooth  # timeseries smoothing function\n",
    "import torch\n",
    "from torch import nn\n",
    "import torch.nn.functional as F\n",
    "\n",
    "# pin rng seeds:\n",
    "random.seed(0)\n",
    "np.random.seed(0)  \n",
    "cartpole = gym.make('CartPole-v1')\n",
    "lunarlander = gym.make('LunarLander-v2')\n",
    "plt.style.use('seaborn-white')\n",
    "dtype = torch.float\n",
    "cuda = 'cpu'\n",
    "\n",
    "monitor_config = {\n",
    "    'title':'Test Monitor',\n",
    "    'log_dir':'test',\n",
    "    'random_seed': 0\n",
    "}\n",
    "writer, _ = init_experiment(monitor_config)"
   ]
  },
  {
   "cell_type": "code",
   "execution_count": 546,
   "metadata": {
    "ExecuteTime": {
     "end_time": "2018-07-16T20:41:04.518784Z",
     "start_time": "2018-07-16T20:41:04.290148Z"
    }
   },
   "outputs": [],
   "source": [
    "@attr.s\n",
    "class Memory(deque):\n",
    "    \"\"\" Experience Replay Memory class. \"\"\"\n",
    "    size = attr.ib()\n",
    "    minibatch_size = attr.ib()\n",
    "\n",
    "    def append(self, thing):\n",
    "        if len(self) > self.size - 1:\n",
    "            self.popleft()\n",
    "        return super().append(thing)\n",
    "\n",
    "    def sample(self):\n",
    "        batch_size = min(len(self), self.minibatch_size)\n",
    "        return random.sample(self, batch_size)\n",
    "\n",
    "\n",
    "@attr.s\n",
    "class ValueDistribution(torch.nn.Module):\n",
    "    state_shape = attr.ib()\n",
    "    action_shape = attr.ib()\n",
    "    vmin = attr.ib()\n",
    "    vmax = attr.ib()\n",
    "    num_atoms = attr.ib(default=51)\n",
    "    num_hidden1_units = attr.ib(default=128)\n",
    "    num_hidden2_units = attr.ib(default=128)\n",
    "    \n",
    "    def __attrs_post_init__(self):\n",
    "        super().__init__()\n",
    "        self.atoms = torch.linspace(self.vmin, self.vmax, self.num_atoms)\n",
    "        self.linear1 = nn.Linear(self.state_shape, self.num_hidden1_units)\n",
    "        self.linear2 = nn.Linear(self.num_hidden1_units, self.num_hidden2_units)\n",
    "        self.out = nn.Linear(self.num_hidden2_units, self.action_shape * self.num_atoms)\n",
    "        \n",
    "    def forward(self, x):\n",
    "        \"\"\" Return (actions x atoms). \"\"\"\n",
    "        x1 = F.relu(self.linear1(x))\n",
    "        x2 = F.relu(self.linear2(x1))\n",
    "        x3 = F.relu(self.out(x2))\n",
    "        x3 = x3.reshape(-1, self.action_shape, self.num_atoms)\n",
    "        out = F.softmax(x3, dim=2)  # (actions x atoms)\n",
    "        batch_size = x.size(0)\n",
    "        assert out.size() == torch.Size((batch_size, self.action_shape, self.num_atoms))\n",
    "        if hasattr(self, 'monitor'):\n",
    "            self.monitor('x1', x1, track_data=True, track_grad=True)\n",
    "            self.monitor('x2', x2, track_data=True, track_grad=True)\n",
    "            self.monitor('x3', x3, track_data=True, track_grad=True)\n",
    "            self.monitor('out', out, track_data=True, track_grad=True)\n",
    "        return out\n",
    "    \n",
    "    def predict_action_values(self, states):\n",
    "        \"\"\" Return (batch-size x actions). \"\"\"\n",
    "        distribution = self.forward(states)\n",
    "        weighted_distribution = distribution * self.atoms\n",
    "        out = weighted_distribution.sum(dim=2).squeeze()  # (batch-size x actions)\n",
    "        dims = states.dim()\n",
    "        if dims > 1:\n",
    "            assert out.size() == torch.Size((batch_size, self.action_shape))\n",
    "        else:\n",
    "            assert out.size() == torch.Size((self.action_shape,))\n",
    "        return out\n",
    "    \n",
    "    def batch_actions(self, states):\n",
    "        values = self.predict_action_values(states)\n",
    "        actions = values.argmax(1)\n",
    "        assert actions.size(0) == states.size(0)\n",
    "        return actions\n",
    "    \n",
    "    def single_action(self, state):\n",
    "        values = self.predict_action_values(state)\n",
    "        action = values.argmax()\n",
    "        return action\n",
    "        "
   ]
  },
  {
   "cell_type": "code",
   "execution_count": 542,
   "metadata": {
    "ExecuteTime": {
     "end_time": "2018-07-16T18:05:01.994861Z",
     "start_time": "2018-07-16T18:05:01.942401Z"
    }
   },
   "outputs": [
    {
     "data": {
      "text/plain": [
       "'\\none_state = torch.tensor([[1.0, 2, 3, 4, 5, 6, 7, 8]])\\none_action = torch.tensor([3.0])\\none_reward = torch.tensor([12.0])\\none_done = torch.tensor([0.0])\\none_state_ = one_state + 1\\none_transition = (one_state, one_action, one_reward, one_state_, one_done)\\n'"
      ]
     },
     "execution_count": 542,
     "metadata": {},
     "output_type": "execute_result"
    }
   ],
   "source": [
    "states = torch.tensor([    \n",
    "    [1.0, 2, 3, 4, 5, 6, 7, 8],\n",
    "    [-4, -3, -1, -5, -5,  3,  1,  3],\n",
    "    [ 4,  1, -3, -5,  1, -4, -2, -4],\n",
    "])\n",
    "actions = torch.tensor([0, 4, 1]) # num actions: 5\n",
    "rewards = torch.tensor([-7.0,  4,  3,])\n",
    "dones = torch.tensor([1, 0, 0], dtype=torch.long)\n",
    "states_ = states + 1\n",
    "many_transition = (states, actions, rewards, states_, dones, )\n",
    "\n",
    "num_atoms = 11\n",
    "vmin = -10\n",
    "vmax = 10 \n",
    "action_shape = 5\n",
    "\n",
    "random.seed(0)\n",
    "np.random.seed(0)  \n",
    "online_net = ValueDistribution(state_shape=8, action_shape=action_shape, vmin=vmin, vmax=vmax, num_atoms=num_atoms, num_hidden1_units=7, num_hidden2_units=7)\n",
    "target_net = ValueDistribution(state_shape=8, action_shape=action_shape, vmin=vmin, vmax=vmax, num_atoms=num_atoms, num_hidden1_units=7, num_hidden2_units=7)\n",
    "target_net.load_state_dict(online_net.state_dict())"
   ]
  },
  {
   "cell_type": "code",
   "execution_count": 494,
   "metadata": {
    "ExecuteTime": {
     "end_time": "2018-07-16T17:19:16.224465Z",
     "start_time": "2018-07-16T17:19:16.105142Z"
    }
   },
   "outputs": [],
   "source": [
    "def categorical_loss(online_net, target_net, transitions, discount):\n",
    "    states, actions, rewards, states_, dones = transitions    \n",
    "    not_dones = (~dones.type(torch.ByteTensor)).type(torch.FloatTensor)\n",
    "    atoms = target_net.atoms\n",
    "    probabilities = target_net.forward(states_)\n",
    "    Q_x_ = (probabilities * atoms).sum(2)\n",
    "    batch_size = states.shape[0]\n",
    "    assert Q_x_.shape == torch.Size((batch_size, target_net.action_shape)), f'Got: {Q_x_.shape}, expected: {(batch_size, target_net.action_shape)}'\n",
    "    a_star = Q_x_.argmax(dim=1) \n",
    "    assert a_star.shape == torch.Size((batch_size,)), f'Got {a_star.shape}, expected: ((batch_size,))'\n",
    "    m = torch.zeros(batch_size, target_net.num_atoms, dtype=torch.float)\n",
    "\n",
    "    delta_z = (target_net.vmax - target_net.vmin)/(target_net.num_atoms - 1)    \n",
    "    # select only the probabilities distributions for the a_star actions:\n",
    "    probabilities = probabilities[range(batch_size), a_star]\n",
    "    #print(f'probabilities: {probabilities}')\n",
    "    for idx, atom in enumerate(atoms):\n",
    "        T_zj = (rewards + discount * atom * not_dones).clamp(min=target_net.vmin, max=target_net.vmax)        \n",
    "        b_j = (T_zj - target_net.vmin)/delta_z\n",
    "        lo = b_j.floor()\n",
    "        hi = b_j.ceil()\n",
    "        print(f'{idx}: {lo}, {hi}')        \n",
    "        m[range(batch_size), lo.to(torch.long)] += probabilities[:, idx] * (hi - b_j)\n",
    "        m[range(batch_size), hi.to(torch.long)] += probabilities[:, idx] * (b_j - lo)\n",
    "        # print(f'{idx}: b_j: {b_j}, m: {m}')\n",
    "    return m\n",
    "    # return torch.sum(-m * (online_net.forward(states)[:, actions]).log())"
   ]
  },
  {
   "cell_type": "code",
   "execution_count": 513,
   "metadata": {
    "ExecuteTime": {
     "end_time": "2018-07-16T17:38:09.442943Z",
     "start_time": "2018-07-16T17:38:09.350299Z"
    }
   },
   "outputs": [],
   "source": [
    "def categorical_loss_vectorized(online_net, target_net, transitions, discount):\n",
    "    # states, actions, rewards, states_, dones = many_transition    \n",
    "    states, actions, rewards, states_, dones = transitions\n",
    "    # not_dones = (~dones.type(torch.ByteTensor)).type(torch.FloatTensor)\n",
    "    not_dones = (1 - dones).type(torch.FloatTensor)\n",
    "    atoms = target_net.atoms\n",
    "    probabilities = target_net.forward(states_)\n",
    "    Q_x_ = (probabilities * atoms).sum(2)\n",
    "    batch_size = states.shape[0]\n",
    "    assert Q_x_.shape == torch.Size((batch_size, target_net.action_shape)), f'Got: {Q_x_.shape}, expected: {(batch_size, target_net.action_shape)}'\n",
    "    a_star = Q_x_.argmax(dim=1) \n",
    "    assert a_star.shape == torch.Size((batch_size,)), f'Got {a_star.shape}, expected: ((batch_size,))'\n",
    "\n",
    "    delta_z = (target_net.vmax - target_net.vmin)/(target_net.num_atoms - 1)    \n",
    "    # select only the probabilities distributions for the a_star actions:\n",
    "    probabilities = probabilities[range(batch_size), a_star]\n",
    "    T_zj = rewards.unsqueeze(1) + discount * atoms * not_dones.unsqueeze(1)\n",
    "    b_j = (T_zj.clamp(target_net.vmin, target_net.vmax) - target_net.vmin) / delta_z  # correct\n",
    "    lo = b_j.floor()\n",
    "    hi = b_j.ceil()\n",
    "    m = torch.zeros(batch_size, target_net.num_atoms, dtype=torch.float)\n",
    "    row_idxs = torch.range(0, batch_size-1, dtype=torch.long).unsqueeze(1).expand_as(m)\n",
    "    m[row_idxs, lo.type(torch.long)] += (probabilities * (hi - b_j))\n",
    "    m[row_idxs, hi.type(torch.long)] += (probabilities * (b_j - lo))\n",
    "    return (-(target_net.forward(states)[range(3), actions]).log() * m).mean()"
   ]
  },
  {
   "cell_type": "code",
   "execution_count": 476,
   "metadata": {
    "ExecuteTime": {
     "end_time": "2018-07-16T16:57:47.352483Z",
     "start_time": "2018-07-16T16:57:40.222742Z"
    },
    "collapsed": true
   },
   "outputs": [
    {
     "name": "stdout",
     "output_type": "stream",
     "text": [
      "1.7 ms ± 92.2 µs per loop (mean ± std. dev. of 7 runs, 100 loops each)\n"
     ]
    },
    {
     "data": {
      "text/plain": [
       "'--'"
      ]
     },
     "execution_count": 476,
     "metadata": {},
     "output_type": "execute_result"
    },
    {
     "data": {
      "text/plain": [
       "tensor([[ 0.0000,  0.5000,  0.5000,  0.0000,  0.0000,  0.0000,  0.0000,\n",
       "          0.0000,  0.0000,  0.0000,  0.0000],\n",
       "        [ 0.0000,  0.0000,  0.0604,  0.0929,  0.0914,  0.0855,  0.0846,\n",
       "          0.0101,  0.1228,  0.0888,  0.0925],\n",
       "        [ 0.0000,  0.0215,  0.0896,  0.0882,  0.0882,  0.1026,  0.1061,\n",
       "          0.0963,  0.0946,  0.0882,  0.0294]])"
      ]
     },
     "execution_count": 476,
     "metadata": {},
     "output_type": "execute_result"
    },
    {
     "data": {
      "text/plain": [
       "'---- Vect:'"
      ]
     },
     "execution_count": 476,
     "metadata": {},
     "output_type": "execute_result"
    },
    {
     "name": "stdout",
     "output_type": "stream",
     "text": [
      "415 µs ± 214 µs per loop (mean ± std. dev. of 7 runs, 1000 loops each)\n"
     ]
    },
    {
     "data": {
      "text/plain": [
       "'--'"
      ]
     },
     "execution_count": 476,
     "metadata": {},
     "output_type": "execute_result"
    },
    {
     "data": {
      "text/plain": [
       "tensor([[ 0.0000,  0.0539,  0.0539,  0.0000,  0.0000,  0.0000,  0.0000,\n",
       "          0.0000,  0.0000,  0.0000,  0.0000],\n",
       "        [ 0.0000,  0.0000,  0.0604,  0.0929,  0.0914,  0.0855,  0.0846,\n",
       "          0.0060,  0.1228,  0.0888,  0.0000],\n",
       "        [ 0.0000,  0.0215,  0.0896,  0.0882,  0.0882,  0.1026,  0.1061,\n",
       "          0.0963,  0.0946,  0.0882,  0.0000]])"
      ]
     },
     "execution_count": 476,
     "metadata": {},
     "output_type": "execute_result"
    },
    {
     "name": "stdout",
     "output_type": "stream",
     "text": [
      "276 µs ± 4.57 µs per loop (mean ± std. dev. of 7 runs, 1000 loops each)\n"
     ]
    },
    {
     "data": {
      "text/plain": [
       "'Hengyuan-hu:'"
      ]
     },
     "execution_count": 476,
     "metadata": {},
     "output_type": "execute_result"
    },
    {
     "name": "stderr",
     "output_type": "stream",
     "text": [
      "/Users/liavkoren/Envs/ai-gym/lib/python3.6/site-packages/ipykernel_launcher.py:127: UserWarning: volatile was removed and now has no effect. Use `with torch.no_grad():` instead.\n"
     ]
    },
    {
     "data": {
      "text/plain": [
       "tensor([[ 0.0000,  0.5000,  0.5000,  0.0000,  0.0000,  0.0000,  0.0000,\n",
       "          0.0000,  0.0000,  0.0000,  0.0000],\n",
       "        [ 0.0000,  0.0000,  0.0604,  0.0929,  0.0914,  0.0855,  0.0846,\n",
       "          0.1053,  0.1228,  0.0888,  0.2682],\n",
       "        [ 0.0000,  0.0215,  0.0896,  0.0882,  0.0882,  0.1026,  0.1061,\n",
       "          0.0963,  0.0946,  0.0882,  0.2247]])"
      ]
     },
     "execution_count": 476,
     "metadata": {},
     "output_type": "execute_result"
    }
   ],
   "source": [
    "# Speed and sanity checks:\n",
    "\n",
    "discount = 0.95\n",
    "%timeit mine = categorical_loss(online_net, target_net, many_transition, discount)\n",
    "'--'\n",
    "mine\n",
    "'---- Vect:'\n",
    "\n",
    "%timeit mine_vectorize = categorical_loss_vectorized(online_net, target_net, many_transition, discount)\n",
    "'--'\n",
    "mine_vectorize\n",
    "\n",
    "# Higgs:\n",
    "\n",
    "%timeit projection_distribution(target_net, states, rewards, dones.type(torch.float), discount)\n",
    "\n",
    "# '--'\n",
    "'Hengyuan-hu:'\n",
    "agent = DistributionalDQNAgent(online_net, False, action_shape, num_atoms, online_net.vmin, online_net.vmax)\n",
    "not_dones = (~dones.type(torch.ByteTensor)).type(torch.FloatTensor)\n",
    "agent.compute_targets(rewards, states_, not_dones, discount)\n",
    "\n",
    "# ----\n",
    "\"Floringo's:\"\n",
    "%timeit m = floringo_agent._get_categorical(states_, rewards.unsqueeze(1), (1 - dones).unsqueeze(1))\n",
    "m"
   ]
  },
  {
   "cell_type": "code",
   "execution_count": null,
   "metadata": {},
   "outputs": [],
   "source": []
  },
  {
   "cell_type": "code",
   "execution_count": null,
   "metadata": {},
   "outputs": [],
   "source": []
  },
  {
   "cell_type": "code",
   "execution_count": null,
   "metadata": {},
   "outputs": [],
   "source": []
  },
  {
   "cell_type": "code",
   "execution_count": null,
   "metadata": {},
   "outputs": [],
   "source": []
  },
  {
   "cell_type": "code",
   "execution_count": null,
   "metadata": {},
   "outputs": [],
   "source": []
  }
 ],
 "metadata": {
  "kernelspec": {
   "display_name": "Python 3",
   "language": "python",
   "name": "python3"
  },
  "language_info": {
   "codemirror_mode": {
    "name": "ipython",
    "version": 3
   },
   "file_extension": ".py",
   "mimetype": "text/x-python",
   "name": "python",
   "nbconvert_exporter": "python",
   "pygments_lexer": "ipython3",
   "version": "3.6.2"
  },
  "latex_envs": {
   "LaTeX_envs_menu_present": true,
   "autoclose": true,
   "autocomplete": true,
   "bibliofile": "biblio.bib",
   "cite_by": "apalike",
   "current_citInitial": 1,
   "eqLabelWithNumbers": true,
   "eqNumInitial": 1,
   "hotkeys": {
    "equation": "Ctrl-E",
    "itemize": "Ctrl-I"
   },
   "labels_anchors": false,
   "latex_user_defs": false,
   "report_style_numbering": false,
   "user_envs_cfg": false
  },
  "toc": {
   "base_numbering": 1,
   "nav_menu": {},
   "number_sections": true,
   "sideBar": true,
   "skip_h1_title": false,
   "title_cell": "Table of Contents",
   "title_sidebar": "Contents",
   "toc_cell": false,
   "toc_position": {},
   "toc_section_display": true,
   "toc_window_display": false
  },
  "varInspector": {
   "cols": {
    "lenName": 16,
    "lenType": 16,
    "lenVar": 40
   },
   "kernels_config": {
    "python": {
     "delete_cmd_postfix": "",
     "delete_cmd_prefix": "del ",
     "library": "var_list.py",
     "varRefreshCmd": "print(var_dic_list())"
    },
    "r": {
     "delete_cmd_postfix": ") ",
     "delete_cmd_prefix": "rm(",
     "library": "var_list.r",
     "varRefreshCmd": "cat(var_dic_list()) "
    }
   },
   "types_to_exclude": [
    "module",
    "function",
    "builtin_function_or_method",
    "instance",
    "_Feature"
   ],
   "window_display": false
  }
 },
 "nbformat": 4,
 "nbformat_minor": 2
}
