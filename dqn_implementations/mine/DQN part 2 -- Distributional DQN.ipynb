{
 "cells": [
  {
   "cell_type": "code",
   "execution_count": 2,
   "metadata": {
    "ExecuteTime": {
     "end_time": "2018-07-14T14:47:50.833175Z",
     "start_time": "2018-07-14T14:47:49.652577Z"
    }
   },
   "outputs": [
    {
     "name": "stdout",
     "output_type": "stream",
     "text": [
      "\u001b[33mWARN: gym.spaces.Box autodetected dtype as <class 'numpy.float32'>. Please provide explicit dtype.\u001b[0m\n",
      "\u001b[33mWARN: gym.spaces.Box autodetected dtype as <class 'numpy.float32'>. Please provide explicit dtype.\u001b[0m\n"
     ]
    }
   ],
   "source": [
    "import random\n",
    "\n",
    "import attr\n",
    "import gym\n",
    "from IPython.display import clear_output\n",
    "from matplotlib import pyplot as plt\n",
    "import numpy as np\n",
    "from smooth import smooth  # timeseries smoothing function\n",
    "import torch\n",
    "from torch import nn\n",
    "import torch.nn.functional as F\n",
    "\n",
    "# pin rng seeds:\n",
    "random.seed(0)\n",
    "np.random.seed(0)  \n",
    "cartpole = gym.make('CartPole-v1')\n",
    "lunarlander = gym.make('LunarLander-v2')\n",
    "plt.style.use('seaborn-white')\n",
    "dtype = torch.float\n",
    "cuda = 'cpu'"
   ]
  },
  {
   "cell_type": "code",
   "execution_count": 3,
   "metadata": {
    "ExecuteTime": {
     "end_time": "2018-07-14T14:47:52.812667Z",
     "start_time": "2018-07-14T14:47:52.717553Z"
    }
   },
   "outputs": [],
   "source": [
    "@attr.s\n",
    "class ValueDistribution(torch.nn.Module):\n",
    "    state_shape = attr.ib()\n",
    "    action_shape = attr.ib()\n",
    "    vmin = attr.ib()\n",
    "    vmax = attr.ib()\n",
    "    num_atoms = attr.ib(default=51)\n",
    "    num_hidden1_units = attr.ib(default=128)\n",
    "    num_hidden2_units = attr.ib(default=128)\n",
    "    \n",
    "    def __attrs_post_init__(self):\n",
    "        super().__init__()\n",
    "        self.atoms = torch.linspace(self.vmin, self.vmax, self.num_atoms)\n",
    "        self.linear1 = nn.Linear(self.state_shape, self.num_hidden1_units)\n",
    "        self.linear2 = nn.Linear(self.num_hidden1_units, self.num_hidden2_units)\n",
    "        self.out = nn.Linear(self.num_hidden2_units, self.action_shape * self.num_atoms)\n",
    "        \n",
    "    def forward(self, x):\n",
    "        \"\"\" Return (actions x atoms). \"\"\"\n",
    "        x = F.relu(self.linear1(x))\n",
    "        x = F.relu(self.linear2(x))\n",
    "        x = F.relu(self.out(x))  \n",
    "        x = x.reshape(-1, self.action_shape, self.num_atoms)   \n",
    "        out = F.softmax(x, dim=2)  # (actions x atoms) \n",
    "        batch_size = x.size(0)\n",
    "        assert out.size() == torch.Size((batch_size, self.action_shape, self.num_atoms))\n",
    "        return out\n",
    "    \n",
    "    def predict_action_values(self, state):\n",
    "        \"\"\" Return (batch-size x actions). \"\"\"\n",
    "        distribution = self.forward(state)\n",
    "        weighted_distribution = distribution * self.atoms\n",
    "        out = weighted_distribution.sum(dim=2).squeeze()  # (batch-size x actions)\n",
    "        batch_size = state.size(0)\n",
    "        assert out.size() == torch.Size((batch_size, self.action_shape))\n",
    "        return out"
   ]
  },
  {
   "cell_type": "code",
   "execution_count": 317,
   "metadata": {
    "ExecuteTime": {
     "end_time": "2018-07-15T22:06:44.445803Z",
     "start_time": "2018-07-15T22:06:44.393262Z"
    }
   },
   "outputs": [
    {
     "data": {
      "text/plain": [
       "'\\none_state = torch.tensor([[1.0, 2, 3, 4, 5, 6, 7, 8]])\\none_action = torch.tensor([3.0])\\none_reward = torch.tensor([12.0])\\none_done = torch.tensor([0.0])\\none_state_ = one_state + 1\\none_transition = (one_state, one_action, one_reward, one_state_, one_done)\\n'"
      ]
     },
     "execution_count": 317,
     "metadata": {},
     "output_type": "execute_result"
    }
   ],
   "source": [
    "states = torch.tensor([    \n",
    "    [1.0, 2, 3, 4, 5, 6, 7, 8],\n",
    "    [-4, -3, -1, -5, -5,  3,  1,  3],\n",
    "    [ 4,  1, -3, -5,  1, -4, -2, -4],\n",
    "])\n",
    "actions = torch.tensor([0, 4, 1]) # num actions: 5\n",
    "rewards = torch.tensor([-7.0,  4,  3,])\n",
    "dones = torch.tensor([1, 0, 0], dtype=torch.long)\n",
    "states_ = states + 1\n",
    "\n",
    "'''\n",
    "one_state = torch.tensor([[1.0, 2, 3, 4, 5, 6, 7, 8]])\n",
    "one_action = torch.tensor([3.0])\n",
    "one_reward = torch.tensor([12.0])\n",
    "one_done = torch.tensor([0.0])\n",
    "one_state_ = one_state + 1\n",
    "one_transition = (one_state, one_action, one_reward, one_state_, one_done)\n",
    "'''\n",
    "many_transition = (states, actions, rewards, states_, dones, )\n",
    "\n",
    "num_atoms = 11\n",
    "vmin = -10\n",
    "vmax = 10 \n",
    "action_shape = 5\n",
    "\n",
    "random.seed(0)\n",
    "np.random.seed(0)  \n",
    "online_net = ValueDistribution(state_shape=8, action_shape=action_shape, vmin=vmin, vmax=vmax, num_atoms=num_atoms, num_hidden1_units=7, num_hidden2_units=7)\n",
    "target_net = ValueDistribution(state_shape=8, action_shape=action_shape, vmin=vmin, vmax=vmax, num_atoms=num_atoms, num_hidden1_units=7, num_hidden2_units=7)\n",
    "target_net.load_state_dict(online_net.state_dict())"
   ]
  },
  {
   "cell_type": "code",
   "execution_count": 288,
   "metadata": {
    "ExecuteTime": {
     "end_time": "2018-07-15T15:01:58.618318Z",
     "start_time": "2018-07-15T15:01:58.611634Z"
    }
   },
   "outputs": [
    {
     "data": {
      "text/plain": [
       "torch.Size([3, 5, 11])"
      ]
     },
     "execution_count": 288,
     "metadata": {},
     "output_type": "execute_result"
    }
   ],
   "source": [
    "target_net.forward(states_).shape"
   ]
  },
  {
   "cell_type": "code",
   "execution_count": 455,
   "metadata": {
    "ExecuteTime": {
     "end_time": "2018-07-16T14:16:36.330823Z",
     "start_time": "2018-07-16T14:16:36.237023Z"
    }
   },
   "outputs": [],
   "source": [
    "# Mine\n",
    "\n",
    "def categorical_loss(online_net, target_net, transitions, discount):\n",
    "    states, actions, rewards, states_, dones = transitions    \n",
    "    not_dones = (~dones.type(torch.ByteTensor)).type(torch.FloatTensor)\n",
    "    atoms = target_net.atoms\n",
    "    probabilities = target_net.forward(states_)\n",
    "    Q_x_ = (probabilities * atoms).sum(2)\n",
    "    batch_size = states.shape[0]\n",
    "    assert Q_x_.shape == torch.Size((batch_size, target_net.action_shape)), f'Got: {Q_x_.shape}, expected: {(batch_size, target_net.action_shape)}'\n",
    "    a_star = Q_x_.argmax(dim=1) \n",
    "    assert a_star.shape == torch.Size((batch_size,)), f'Got {a_star.shape}, expected: ((batch_size,))'\n",
    "    m = torch.zeros(batch_size, target_net.num_atoms, dtype=torch.float)\n",
    "\n",
    "    delta_z = (target_net.vmax - target_net.vmin)/(target_net.num_atoms - 1)    \n",
    "    # select only the probabilities distributions for the a_star actions:\n",
    "    probabilities = probabilities[range(batch_size), a_star]\n",
    "    #print(f'probabilities: {probabilities}')\n",
    "    for idx, atom in enumerate(atoms):\n",
    "        T_zj = (rewards + discount * atom * not_dones).clamp(min=target_net.vmin, max=target_net.vmax)\n",
    "        b_j = (T_zj - target_net.vmin)/delta_z\n",
    "\n",
    "        lo = b_j.floor()\n",
    "        hi = b_j.ceil()\n",
    "        m[range(batch_size), lo.to(torch.long)] += probabilities[:, idx] * (hi - b_j)\n",
    "        m[range(batch_size), hi.to(torch.long)] += probabilities[:, idx] * (b_j - lo)\n",
    "        # print(f'{idx}: b_j: {b_j}, m: {m}')\n",
    "    return m\n",
    "    # return torch.sum(-m * (online_net.forward(states)[:, actions]).log())"
   ]
  },
  {
   "cell_type": "code",
   "execution_count": null,
   "metadata": {},
   "outputs": [],
   "source": []
  },
  {
   "cell_type": "code",
   "execution_count": null,
   "metadata": {},
   "outputs": [],
   "source": []
  },
  {
   "cell_type": "code",
   "execution_count": 454,
   "metadata": {
    "ExecuteTime": {
     "end_time": "2018-07-16T14:16:18.604244Z",
     "start_time": "2018-07-16T14:16:18.521369Z"
    }
   },
   "outputs": [],
   "source": [
    "def categorical_loss_vectorized(online_net, target_net, transitions, discount):\n",
    "    # states, actions, rewards, states_, dones = many_transition    \n",
    "    states, actions, rewards, states_, dones = transitions\n",
    "    not_dones = (~dones.type(torch.ByteTensor)).type(torch.FloatTensor)\n",
    "    atoms = target_net.atoms\n",
    "    probabilities = target_net.forward(states_)\n",
    "    Q_x_ = (probabilities * atoms).sum(2)\n",
    "    batch_size = states.shape[0]\n",
    "    assert Q_x_.shape == torch.Size((batch_size, target_net.action_shape)), f'Got: {Q_x_.shape}, expected: {(batch_size, target_net.action_shape)}'\n",
    "    a_star = Q_x_.argmax(dim=1) \n",
    "    assert a_star.shape == torch.Size((batch_size,)), f'Got {a_star.shape}, expected: ((batch_size,))'\n",
    "\n",
    "    delta_z = (target_net.vmax - target_net.vmin)/(target_net.num_atoms - 1)    \n",
    "    # select only the probabilities distributions for the a_star actions:\n",
    "    probabilities = probabilities[range(batch_size), a_star]\n",
    "    T_zj = rewards.unsqueeze(1) + discount * atoms * not_dones.unsqueeze(1)\n",
    "    b_j = (T_zj.clamp(target_net.vmin, target_net.vmax) - target_net.vmin) / delta_z  # correct\n",
    "    lo = b_j.floor()\n",
    "    hi = b_j.ceil()\n",
    "    m = torch.zeros(batch_size, target_net.num_atoms, dtype=torch.float)\n",
    "    row_idxs = torch.range(0, batch_size-1, dtype=torch.long).unsqueeze(1).expand_as(m)\n",
    "    m[row_idxs, lo.type(torch.long)] += probabilities * (hi - b_j)\n",
    "    m[row_idxs, hi.type(torch.long)] += probabilities * (b_j - lo)\n",
    "    return m"
   ]
  },
  {
   "cell_type": "code",
   "execution_count": 456,
   "metadata": {
    "ExecuteTime": {
     "end_time": "2018-07-16T14:16:43.557438Z",
     "start_time": "2018-07-16T14:16:43.478937Z"
    }
   },
   "outputs": [
    {
     "data": {
      "text/plain": [
       "'--'"
      ]
     },
     "execution_count": 456,
     "metadata": {},
     "output_type": "execute_result"
    },
    {
     "data": {
      "text/plain": [
       "tensor([[ 0.0000,  0.5000,  0.5000,  0.0000,  0.0000,  0.0000,  0.0000,\n",
       "          0.0000,  0.0000,  0.0000,  0.0000],\n",
       "        [ 0.0000,  0.0000,  0.0604,  0.0929,  0.0914,  0.0855,  0.0846,\n",
       "          0.0101,  0.1228,  0.0888,  0.0925],\n",
       "        [ 0.0000,  0.0215,  0.0896,  0.0882,  0.0882,  0.1026,  0.1061,\n",
       "          0.0963,  0.0946,  0.0882,  0.0294]])"
      ]
     },
     "execution_count": 456,
     "metadata": {},
     "output_type": "execute_result"
    },
    {
     "data": {
      "text/plain": [
       "'---- Vect:'"
      ]
     },
     "execution_count": 456,
     "metadata": {},
     "output_type": "execute_result"
    },
    {
     "data": {
      "text/plain": [
       "'--'"
      ]
     },
     "execution_count": 456,
     "metadata": {},
     "output_type": "execute_result"
    },
    {
     "data": {
      "text/plain": [
       "tensor([[ 0.0000,  0.0539,  0.0539,  0.0000,  0.0000,  0.0000,  0.0000,\n",
       "          0.0000,  0.0000,  0.0000,  0.0000],\n",
       "        [ 0.0000,  0.0000,  0.0604,  0.0929,  0.0914,  0.0855,  0.0846,\n",
       "          0.0060,  0.1228,  0.0888,  0.0000],\n",
       "        [ 0.0000,  0.0215,  0.0896,  0.0882,  0.0882,  0.1026,  0.1061,\n",
       "          0.0963,  0.0946,  0.0882,  0.0000]])"
      ]
     },
     "execution_count": 456,
     "metadata": {},
     "output_type": "execute_result"
    },
    {
     "data": {
      "text/plain": [
       "'Hengyuan-hu:'"
      ]
     },
     "execution_count": 456,
     "metadata": {},
     "output_type": "execute_result"
    },
    {
     "name": "stderr",
     "output_type": "stream",
     "text": [
      "/Users/liavkoren/Envs/ai-gym/lib/python3.6/site-packages/ipykernel_launcher.py:127: UserWarning: volatile was removed and now has no effect. Use `with torch.no_grad():` instead.\n"
     ]
    },
    {
     "data": {
      "text/plain": [
       "tensor([[ 0.0000,  0.5000,  0.5000,  0.0000,  0.0000,  0.0000,  0.0000,\n",
       "          0.0000,  0.0000,  0.0000,  0.0000],\n",
       "        [ 0.0000,  0.0000,  0.0604,  0.0929,  0.0914,  0.0855,  0.0846,\n",
       "          0.1053,  0.1228,  0.0888,  0.2682],\n",
       "        [ 0.0000,  0.0215,  0.0896,  0.0882,  0.0882,  0.1026,  0.1061,\n",
       "          0.0963,  0.0946,  0.0882,  0.2247]])"
      ]
     },
     "execution_count": 456,
     "metadata": {},
     "output_type": "execute_result"
    }
   ],
   "source": [
    "discount = 0.95\n",
    "mine = categorical_loss(online_net, target_net, many_transition, discount)\n",
    "'--'\n",
    "mine\n",
    "'---- Vect:'\n",
    "\n",
    "mine_vectorize = categorical_loss_vectorized(online_net, target_net, many_transition, discount)\n",
    "'--'\n",
    "mine_vectorize\n",
    "\n",
    "# '--'\n",
    "'Hengyuan-hu:'\n",
    "agent = DistributionalDQNAgent(online_net, False, action_shape, num_atoms, online_net.vmin, online_net.vmax)\n",
    "not_dones = (~dones.type(torch.ByteTensor)).type(torch.FloatTensor)\n",
    "agent.compute_targets(rewards, states_, not_dones, discount)"
   ]
  },
  {
   "cell_type": "code",
   "execution_count": null,
   "metadata": {},
   "outputs": [],
   "source": []
  },
  {
   "cell_type": "code",
   "execution_count": null,
   "metadata": {},
   "outputs": [],
   "source": []
  },
  {
   "cell_type": "code",
   "execution_count": null,
   "metadata": {},
   "outputs": [],
   "source": []
  },
  {
   "cell_type": "code",
   "execution_count": null,
   "metadata": {},
   "outputs": [],
   "source": []
  },
  {
   "cell_type": "code",
   "execution_count": null,
   "metadata": {},
   "outputs": [],
   "source": []
  },
  {
   "cell_type": "code",
   "execution_count": null,
   "metadata": {},
   "outputs": [],
   "source": []
  },
  {
   "cell_type": "code",
   "execution_count": null,
   "metadata": {},
   "outputs": [],
   "source": []
  },
  {
   "cell_type": "code",
   "execution_count": null,
   "metadata": {},
   "outputs": [],
   "source": []
  },
  {
   "cell_type": "code",
   "execution_count": 371,
   "metadata": {
    "ExecuteTime": {
     "end_time": "2018-07-16T00:56:03.878750Z",
     "start_time": "2018-07-16T00:56:03.792638Z"
    }
   },
   "outputs": [],
   "source": [
    "# HiggsField's projection implmentation:\n",
    "# these are mini-batch sized tensors of nexts, rewards, dones:\n",
    "def projection_distribution(target_model, next_state, rewards, dones, discount):\n",
    "    batch_size = next_state.size(0)\n",
    "    Vmax = target_model.vmax\n",
    "    Vmin = target_model.vmin\n",
    "    num_atoms = target_model.num_atoms\n",
    "    delta_z = float(Vmax - Vmin) / (num_atoms - 1)\n",
    "    support = torch.linspace(Vmin, Vmax, num_atoms)\n",
    "\n",
    "    next_dist = target_model(next_state).data.cpu() * support\n",
    "    next_action = next_dist.sum(2).max(1)[1]\n",
    "    next_action = next_action.unsqueeze(1).unsqueeze(1).expand(next_dist.size(0), 1, next_dist.size(2))\n",
    "    next_dist = next_dist.gather(1, next_action).squeeze(1)\n",
    "\n",
    "    rewards = rewards.unsqueeze(1).expand_as(next_dist)\n",
    "    dones = dones.unsqueeze(1).expand_as(next_dist)\n",
    "    support = support.unsqueeze(0).expand_as(next_dist)\n",
    "\n",
    "    Tz = rewards + (1 - dones) * discount * support\n",
    "    Tz = Tz.clamp(min=Vmin, max=Vmax)\n",
    "    b = (Tz - Vmin) / delta_z\n",
    "    l = b.floor().long()\n",
    "    u = b.ceil().long()\n",
    "    offset = torch.linspace(\n",
    "        0,  # start\n",
    "        (batch_size - 1) * num_atoms,  # end\n",
    "        batch_size  # steps\n",
    "    ).long(  # cast to int\n",
    "    ).unsqueeze(1  # \"new tensor with a dim of size one inserted at the specified position.\"\n",
    "                   # Basically turns a row vect into a col vect.\n",
    "                   # (batch_size, 1): [[0], [51], [102], [153]]\n",
    "    ).expand(batch_size, num_atoms)  # (batch_size, 1) -> (batch_size, num_atoms), copying values.\n",
    "    proj_dist = torch.zeros(next_dist.size())\n",
    "    proj_dist.view(-1\n",
    "        ).index_add_(\n",
    "        0,\n",
    "        (l + offset).view(-1),\n",
    "        (next_dist * (u.float() - b)).view(-1)\n",
    "    )\n",
    "    proj_dist.view(-1).index_add_(0, (u + offset).view(-1), (next_dist * (b - l.float())).view(-1))\n",
    "\n",
    "    return proj_dist  # this is `m` in the paper."
   ]
  },
  {
   "cell_type": "code",
   "execution_count": 372,
   "metadata": {
    "ExecuteTime": {
     "end_time": "2018-07-16T00:56:19.452574Z",
     "start_time": "2018-07-16T00:56:18.540204Z"
    }
   },
   "outputs": [],
   "source": [
    "import copy\n",
    "import torch\n",
    "import torch.nn as nn\n",
    "from torch.autograd import Variable\n",
    "import numpy as np\n",
    "\n",
    "\n",
    "EPS = 1e-7\n",
    "\n",
    "\n",
    "def assert_eq(real, expected):\n",
    "    assert real == expected, '%s (true) vs %s (expected)' % (real, expected)\n",
    "\n",
    "\n",
    "def one_hot(x, n):\n",
    "    assert x.dim() == 2\n",
    "    # one_hot_x = torch.zeros(x.size(0), n).cuda()\n",
    "    one_hot_x = torch.zeros(x.size(0), n)\n",
    "    one_hot_x.scatter_(1, x, 1)\n",
    "    return one_hot_x\n",
    "\n",
    "\n",
    "class DQNAgent(object):\n",
    "    def __init__(self, q_net, double_dqn, num_actions):\n",
    "        self.online_q_net = q_net\n",
    "        self.target_q_net = copy.deepcopy(q_net)\n",
    "        self.double_dqn = double_dqn\n",
    "        self.num_actions = num_actions\n",
    "\n",
    "    def save_q_net(self, prefix):\n",
    "        torch.save(self.online_q_net.state_dict(), prefix+'online_q_net.pth')\n",
    "\n",
    "    def parameters(self):\n",
    "        return self.online_q_net.parameters()\n",
    "\n",
    "    def sync_target(self):\n",
    "        self.target_q_net = copy.deepcopy(self.online_q_net)\n",
    "\n",
    "    def target_q_values(self, states):\n",
    "        q_vals = self.target_q_net(Variable(states, volatile=True)).data\n",
    "        return q_vals\n",
    "\n",
    "    def online_q_values(self, states):\n",
    "        q_vals = self.online_q_net(Variable(states, volatile=True)).data\n",
    "        return q_vals\n",
    "\n",
    "    def compute_targets(self, rewards, next_states, non_ends, gamma):\n",
    "        \"\"\"Compute batch of targets for dqn\n",
    "        params:\n",
    "            rewards: Tensor [batch]\n",
    "            next_states: Tensor [batch, channel, w, h]\n",
    "            non_ends: Tensor [batch]\n",
    "            gamma: float\n",
    "        \"\"\"\n",
    "        next_q_vals = self.target_q_values(next_states)\n",
    "\n",
    "        if self.double_dqn:\n",
    "            next_actions = self.online_q_values(next_states).max(1, True)[1]\n",
    "            next_actions = one_hot(next_actions, self.num_actions)\n",
    "            next_qs = (next_q_vals * next_actions).sum(1)\n",
    "        else:\n",
    "            next_qs = next_q_vals.max(1)[0] # max returns a pair\n",
    "\n",
    "        targets = rewards + gamma * next_qs * non_ends\n",
    "        return targets\n",
    "\n",
    "    def loss(self, states, actions, targets):\n",
    "        \"\"\"\n",
    "        params:\n",
    "            states: Variable [batch, channel, w, h]\n",
    "            actions: Variable [batch, num_actions] one hot encoding\n",
    "            targets: Variable [batch]\n",
    "        \"\"\"\n",
    "        assert_eq(actions.size(1), self.num_actions)\n",
    "\n",
    "        qs = self.online_q_net(states)\n",
    "        preds = (qs * actions).sum(1)\n",
    "        err = nn.functional.smooth_l1_loss(preds, targets)\n",
    "        return err\n",
    "\n",
    "\n",
    "class DistributionalDQNAgent(DQNAgent):\n",
    "    def __init__(self, q_net, double_dqn, num_actions, num_atoms, vmin, vmax):\n",
    "        super(DistributionalDQNAgent, self).__init__(q_net, double_dqn, num_actions)\n",
    "\n",
    "        self.num_atoms = num_atoms\n",
    "        self.vmin = float(vmin)\n",
    "        self.vmax = float(vmax)\n",
    "\n",
    "        self.delta_z = (self.vmax - self.vmin) / (num_atoms - 1)\n",
    "\n",
    "        zpoints = np.linspace(vmin, vmax, num_atoms).astype(np.float32)\n",
    "        # self.zpoints = Variable(torch.from_numpy(zpoints).unsqueeze(0)).cuda()\n",
    "        self.zpoints = Variable(torch.from_numpy(zpoints).unsqueeze(0))\n",
    "\n",
    "    def _q_values(self, q_net, states):\n",
    "        \"\"\"internal function to compute q_value\n",
    "        params:\n",
    "            q_net: self.online_q_net or self.target_q_net\n",
    "            states: Variable [batch, channel, w, h]\n",
    "        \"\"\"\n",
    "        probs = q_net(states) # [batch, num_actions, num_atoms]\n",
    "        q_vals = (probs * self.zpoints).sum(2)\n",
    "        return q_vals, probs\n",
    "\n",
    "    def target_q_values(self, states):\n",
    "        states = Variable(states, volatile=True)\n",
    "        q_vals, _ = self._q_values(self.target_q_net, states)\n",
    "        return q_vals.data\n",
    "\n",
    "    def online_q_values(self, states):\n",
    "        states = Variable(states, volatile=True)\n",
    "        q_vals, _ = self._q_values(self.online_q_net, states)\n",
    "        return q_vals.data\n",
    "\n",
    "    def compute_targets(self, rewards, next_states, non_ends, gamma):\n",
    "        \"\"\"Compute batch of targets for distributional dqn\n",
    "        params:\n",
    "            rewards: Tensor [batch, 1]\n",
    "            next_states: Tensor [batch, channel, w, h]\n",
    "            non_ends: Tensor [batch, 1]\n",
    "            gamma: float\n",
    "        \"\"\"\n",
    "        assert not self.double_dqn, 'not supported yet'\n",
    "\n",
    "        # get next distribution\n",
    "        next_states = Variable(next_states, volatile=True)\n",
    "        # [batch, num_actions], [batch, num_actions, num_atoms]\n",
    "        next_q_vals, next_probs = self._q_values(self.target_q_net, next_states)\n",
    "        next_actions = next_q_vals.data.max(1, True)[1] # [batch, 1]\n",
    "        next_actions = one_hot(next_actions, self.num_actions).unsqueeze(2)\n",
    "        next_greedy_probs = (next_actions * next_probs.data).sum(1)\n",
    "\n",
    "        # transform the distribution\n",
    "        rewards = rewards.unsqueeze(1)\n",
    "        non_ends = non_ends.unsqueeze(1)\n",
    "        proj_zpoints = rewards + gamma * non_ends * self.zpoints.data\n",
    "        proj_zpoints.clamp_(self.vmin, self.vmax)\n",
    "\n",
    "        # project onto shared support\n",
    "        b = (proj_zpoints - self.vmin) / self.delta_z\n",
    "        lower = b.floor()\n",
    "        upper = b.ceil()\n",
    "        # handle corner case where b is integer\n",
    "        eq = (upper == lower).float()\n",
    "        lower -= eq\n",
    "        lt0 = (lower < 0).float()\n",
    "        lower += lt0\n",
    "        upper += lt0\n",
    "\n",
    "        # note: it's faster to do the following on cpu\n",
    "        ml = (next_greedy_probs * (upper - b)).cpu().numpy()\n",
    "        mu = (next_greedy_probs * (b - lower)).cpu().numpy()\n",
    "\n",
    "        lower = lower.cpu().numpy().astype(np.int32)\n",
    "        upper = upper.cpu().numpy().astype(np.int32)\n",
    "\n",
    "        batch_size = rewards.size(0)\n",
    "        mass = np.zeros((batch_size, self.num_atoms), dtype=np.float32)\n",
    "        brange = range(batch_size)\n",
    "        for i in range(self.num_atoms):\n",
    "            mass[brange, lower[brange, i]] += ml[brange, i]\n",
    "            mass[brange, upper[brange, i]] += mu[brange, i]\n",
    "\n",
    "        return torch.from_numpy(mass)\n",
    "        # return torch.from_numpy(mass).cuda()\n",
    "\n",
    "    def loss(self, states, actions, targets):\n",
    "        \"\"\"\n",
    "        params:\n",
    "            states: Variable [batch, channel, w, h]\n",
    "            actions: Variable [batch, num_actions] one hot encoding\n",
    "            targets: Variable [batch, num_atoms]\n",
    "        \"\"\"\n",
    "        assert_eq(actions.size(1), self.num_actions)\n",
    "\n",
    "        actions = actions.unsqueeze(2)\n",
    "        probs = self.online_q_net(states)  # [batch, num_actions, num_atoms]\n",
    "        probs = (probs * actions).sum(1)  # [batch, num_atoms]\n",
    "        xent = -(targets * torch.log(probs.clamp(min=EPS))).sum(1)\n",
    "        xent = xent.mean(0)\n",
    "        return xent\n"
   ]
  }
 ],
 "metadata": {
  "kernelspec": {
   "display_name": "Python 3",
   "language": "python",
   "name": "python3"
  },
  "language_info": {
   "codemirror_mode": {
    "name": "ipython",
    "version": 3
   },
   "file_extension": ".py",
   "mimetype": "text/x-python",
   "name": "python",
   "nbconvert_exporter": "python",
   "pygments_lexer": "ipython3",
   "version": "3.6.2"
  },
  "latex_envs": {
   "LaTeX_envs_menu_present": true,
   "autoclose": true,
   "autocomplete": true,
   "bibliofile": "biblio.bib",
   "cite_by": "apalike",
   "current_citInitial": 1,
   "eqLabelWithNumbers": true,
   "eqNumInitial": 1,
   "hotkeys": {
    "equation": "Ctrl-E",
    "itemize": "Ctrl-I"
   },
   "labels_anchors": false,
   "latex_user_defs": false,
   "report_style_numbering": false,
   "user_envs_cfg": false
  },
  "toc": {
   "base_numbering": 1,
   "nav_menu": {},
   "number_sections": true,
   "sideBar": true,
   "skip_h1_title": false,
   "title_cell": "Table of Contents",
   "title_sidebar": "Contents",
   "toc_cell": false,
   "toc_position": {},
   "toc_section_display": true,
   "toc_window_display": false
  },
  "varInspector": {
   "cols": {
    "lenName": 16,
    "lenType": 16,
    "lenVar": 40
   },
   "kernels_config": {
    "python": {
     "delete_cmd_postfix": "",
     "delete_cmd_prefix": "del ",
     "library": "var_list.py",
     "varRefreshCmd": "print(var_dic_list())"
    },
    "r": {
     "delete_cmd_postfix": ") ",
     "delete_cmd_prefix": "rm(",
     "library": "var_list.r",
     "varRefreshCmd": "cat(var_dic_list()) "
    }
   },
   "types_to_exclude": [
    "module",
    "function",
    "builtin_function_or_method",
    "instance",
    "_Feature"
   ],
   "window_display": false
  }
 },
 "nbformat": 4,
 "nbformat_minor": 2
}
