{
 "cells": [
  {
   "cell_type": "code",
   "execution_count": 52,
   "metadata": {
    "ExecuteTime": {
     "end_time": "2018-07-17T13:05:56.914451Z",
     "start_time": "2018-07-17T13:05:56.529738Z"
    }
   },
   "outputs": [
    {
     "name": "stdout",
     "output_type": "stream",
     "text": [
      "\u001b[33mWARN: gym.spaces.Box autodetected dtype as <class 'numpy.float32'>. Please provide explicit dtype.\u001b[0m\n",
      "\u001b[33mWARN: gym.spaces.Box autodetected dtype as <class 'numpy.float32'>. Please provide explicit dtype.\u001b[0m\n"
     ]
    }
   ],
   "source": [
    "from collections import deque\n",
    "import math\n",
    "import random\n",
    "\n",
    "import attr\n",
    "import gym\n",
    "from IPython.display import clear_output\n",
    "from matplotlib import pyplot as plt\n",
    "import numpy as np\n",
    "from pytorch_monitor import init_experiment, monitor_module\n",
    "# from smooth import smooth  # timeseries smoothing function\n",
    "import torch\n",
    "from torch import nn\n",
    "import torch.nn.functional as F\n",
    "\n",
    "\n",
    "cartpole = gym.make('CartPole-v1')\n",
    "lunarlander = gym.make('LunarLander-v2')\n",
    "plt.style.use('seaborn-white')\n",
    "monitor_config = {\n",
    "    'title':'Test Monitor',\n",
    "    'log_dir':'categorical-dqn',\n",
    "    'random_seed': 0\n",
    "}\n",
    "\n",
    "if torch.cuda.is_available():\n",
    "    device = 'cuda'\n",
    "else:\n",
    "    device = 'cpu'  "
   ]
  },
  {
   "cell_type": "code",
   "execution_count": 53,
   "metadata": {
    "ExecuteTime": {
     "end_time": "2018-07-17T13:05:58.438661Z",
     "start_time": "2018-07-17T13:05:58.433511Z"
    }
   },
   "outputs": [
    {
     "data": {
      "text/plain": [
       "{'log_dir': 'categorical-dqn',\n",
       " 'random_seed': 0,\n",
       " 'run_dir': 'categorical-dqn/Jul-17-18@09:05:56-DaydreamNation.local',\n",
       " 'run_name': 'Jul-17-18@09:05:56-DaydreamNation.local',\n",
       " 'tag': 'Experiment Config: Test Monitor :: Jul-17-18@09:05:56\\n',\n",
       " 'title': 'Test Monitor'}"
      ]
     },
     "execution_count": 53,
     "metadata": {},
     "output_type": "execute_result"
    }
   ],
   "source": [
    "monitor_config"
   ]
  },
  {
   "cell_type": "markdown",
   "metadata": {},
   "source": [
    "# TODO: add device spec for every tensor"
   ]
  },
  {
   "cell_type": "code",
   "execution_count": 63,
   "metadata": {
    "ExecuteTime": {
     "end_time": "2018-07-17T13:24:32.535339Z",
     "start_time": "2018-07-17T13:24:32.202091Z"
    }
   },
   "outputs": [],
   "source": [
    "@attr.s\n",
    "class Memory(deque):\n",
    "    \"\"\" Experience Replay Memory class. \"\"\"\n",
    "    size = attr.ib()\n",
    "    minibatch_size = attr.ib()\n",
    "\n",
    "    def append(self, thing):\n",
    "        if len(self) > self.size - 1:\n",
    "            self.popleft()\n",
    "        return super().append(thing)\n",
    "\n",
    "    def sample(self):\n",
    "        batch_size = min(len(self), self.minibatch_size)\n",
    "        data = random.sample(self, batch_size)\n",
    "        states = torch.stack([record[0] for record in data])\n",
    "        actions = torch.tensor([record[1] for record in data], dtype=torch.long)\n",
    "        rewards = torch.tensor([record[2] for record in data], dtype=torch.float)\n",
    "        states_ = torch.stack([record[3] for record in data])\n",
    "        dones = torch.tensor([record[4] for record in data], dtype=torch.long)\n",
    "        return (states, actions, rewards, states_, dones)\n",
    "\n",
    "\n",
    "class ValueDistribution(torch.nn.Module):\n",
    "    def __init__(self, state_shape, action_shape, vmin, vmax, num_atoms=51, num_hidden1_units=128, num_hidden2_units=128):\n",
    "        super().__init__()\n",
    "        self.state_shape = state_shape\n",
    "        self.action_shape = action_shape\n",
    "        self.vmin = vmin\n",
    "        self.vmax = vmax\n",
    "        self.num_atoms = num_atoms\n",
    "        self.atoms = torch.linspace(self.vmin, self.vmax, self.num_atoms)\n",
    "        self.linear1 = nn.Linear(self.state_shape, num_hidden1_units)\n",
    "        self.linear2 = nn.Linear(num_hidden1_units, num_hidden2_units)\n",
    "        self.out = nn.Linear(num_hidden2_units, self.action_shape * self.num_atoms)\n",
    "        \n",
    "    def forward(self, x):\n",
    "        \"\"\" Return (actions x atoms). \"\"\"\n",
    "        x1 = F.relu(self.linear1(x))\n",
    "        x2 = F.relu(self.linear2(x1))\n",
    "        x3 = F.relu(self.out(x2))\n",
    "        x3 = x3.reshape(-1, self.action_shape, self.num_atoms)\n",
    "        out = F.softmax(x3, dim=2)  # (actions x atoms)\n",
    "        if x.dim() == 1:\n",
    "            batch_size = 1\n",
    "        else:\n",
    "            batch_size = x.size(0)\n",
    "        assert out.size() == torch.Size((batch_size, self.action_shape, self.num_atoms))\n",
    "        if hasattr(self, 'monitor'):\n",
    "            self.monitor('x1', x1, track_data=True, track_grad=True)\n",
    "            self.monitor('x2', x2, track_data=True, track_grad=True)\n",
    "            self.monitor('x3', x3, track_data=True, track_grad=True)\n",
    "            self.monitor('out', out, track_data=True, track_grad=True)\n",
    "        return out\n",
    "    \n",
    "    def predict_action_values(self, states):\n",
    "        \"\"\" Return (batch-size x actions). \"\"\"\n",
    "        distribution = self.forward(states)\n",
    "        weighted_distribution = distribution * self.atoms\n",
    "        out = weighted_distribution.sum(dim=2).squeeze()  # (batch-size x actions)\n",
    "        dims = states.dim()\n",
    "        if dims > 1:\n",
    "            assert out.size() == torch.Size((self.action_shape,))\n",
    "        else:\n",
    "            assert out.size() == torch.Size((self.action_shape,))\n",
    "        return out\n",
    "    \n",
    "    def batch_actions(self, states):\n",
    "        values = self.predict_action_values(states)\n",
    "        actions = values.argmax(1)\n",
    "        assert actions.size(0) == states.size(0)\n",
    "        return actions\n",
    "    \n",
    "    def single_action(self, state):\n",
    "        values = self.predict_action_values(state)\n",
    "        action = values.argmax()\n",
    "        return action\n"
   ]
  },
  {
   "cell_type": "code",
   "execution_count": 64,
   "metadata": {
    "ExecuteTime": {
     "end_time": "2018-07-17T13:24:39.621871Z",
     "start_time": "2018-07-17T13:24:39.556451Z"
    }
   },
   "outputs": [],
   "source": [
    "def categorical_loss(online_net, target_net, transitions, discount): \n",
    "    states, actions, rewards, states_, dones = transitions\n",
    "    not_dones = (1 - dones).type(torch.FloatTensor)\n",
    "    atoms = target_net.atoms\n",
    "    probabilities = target_net.forward(states_)\n",
    "    Q_x_ = (probabilities * atoms).sum(2)\n",
    "    batch_size = states.shape[0]\n",
    "    assert Q_x_.shape == torch.Size((batch_size, target_net.action_shape)), f'Got: {Q_x_.shape}, expected: {(batch_size, target_net.action_shape)}'\n",
    "    a_star = Q_x_.argmax(dim=1) \n",
    "    assert a_star.shape == torch.Size((batch_size,)), f'Got {a_star.shape}, expected: ((batch_size,))'\n",
    "    \n",
    "    # compute the projected probability:\n",
    "    delta_z = (target_net.vmax - target_net.vmin)/(target_net.num_atoms - 1)    \n",
    "    # select only the probabilities distributions for the a_star actions:\n",
    "    probabilities = probabilities[range(batch_size), a_star]\n",
    "    T_zj = rewards.unsqueeze(1) + discount * atoms * not_dones.unsqueeze(1)\n",
    "    b_j = (T_zj.clamp(target_net.vmin, target_net.vmax) - target_net.vmin) / delta_z  # correct\n",
    "    lo = b_j.floor()\n",
    "    hi = b_j.ceil()\n",
    "    m = torch.zeros(batch_size, target_net.num_atoms, dtype=torch.float)\n",
    "    row_idxs = torch.range(0, batch_size-1, dtype=torch.long).unsqueeze(1).expand_as(m)\n",
    "    m[row_idxs, lo.type(torch.long)] += (probabilities * (hi - b_j))\n",
    "    m[row_idxs, hi.type(torch.long)] += (probabilities * (b_j - lo))\n",
    "\n",
    "    # x enthropy is Sigma <true> log <unnatural>, so for us is: target log(online)\n",
    "    online_distribution = online_net.forward(states)[range(batch_size), actions]\n",
    "    return -(m * online_distribution.log()).sum(1).mean()"
   ]
  },
  {
   "cell_type": "code",
   "execution_count": 69,
   "metadata": {
    "ExecuteTime": {
     "end_time": "2018-07-17T13:28:25.888180Z",
     "start_time": "2018-07-17T13:28:25.371891Z"
    }
   },
   "outputs": [],
   "source": [
    "@attr.s\n",
    "class CategoricalAgent:\n",
    "    env = attr.ib()\n",
    "    discount = attr.ib(default=0.99)\n",
    "    epsilon_max = attr.ib(default=1.0)\n",
    "    epsilon_min = attr.ib(default=0.01)\n",
    "    annealing_const = attr.ib(default=.001)  # aka Lambda\n",
    "    minibatch_size = attr.ib(default=32)\n",
    "    memory_size = attr.ib(default=int(1e6))\n",
    "    num_episodes = attr.ib(default=1000)  # num of episodes in a training epoch\n",
    "    render_every = attr.ib(default=20)  # set to zero to turn off rendering\n",
    "    update_target_every = attr.ib(default=200)\n",
    "    vmin = attr.ib(default=-10)\n",
    "    vmax = attr.ib(default=10)\n",
    "    num_atoms = attr.ib(default=51)\n",
    "    learning_rate = attr.ib(default=0.000001)\n",
    "    monitor_every = attr.ib(default=50)\n",
    "    logger = attr.ib(default=None)\n",
    "    \n",
    "    def __attrs_post_init__(self):\n",
    "        self.steps = 0\n",
    "        state_shape = self.env.observation_space.shape[0]\n",
    "        self.memory = Memory(self.memory_size, self.minibatch_size)\n",
    "        self.action_shape = self.env.action_space.n\n",
    "        self.online_net = ValueDistribution(state_shape=state_shape, action_shape=self.action_shape, vmin=self.vmin, vmax=self.vmax, num_atoms=self.num_atoms)\n",
    "        self.target_net = ValueDistribution(state_shape=state_shape, action_shape=self.action_shape, vmin=self.vmin, vmax=self.vmax, num_atoms=self.num_atoms)\n",
    "        self.target_net.load_state_dict(self.online_net.state_dict())\n",
    "        self.optimizer = torch.optim.Adam(self.online_net.parameters(), lr=self.learning_rate)\n",
    "        self.reset_data_recorders()\n",
    "        logger.add_graph(model, x)\n",
    "\n",
    "    def reset_data_recorders(self):\n",
    "        self.episode_rewards = []\n",
    "        self.episode_losses = []\n",
    "        self.td_errors = []\n",
    "        self.online_net_q_values = []\n",
    "        self.target_net_q_values = []\n",
    "        self.w1_gradient = []\n",
    "        self.w2_gradient = []\n",
    "        self.steps = 0\n",
    "\n",
    "    def render(self, episode):\n",
    "        if self.render_every and episode % self.render_every == 0:\n",
    "            self.env.render()\n",
    "\n",
    "    def training_progress_report(self, episode):\n",
    "        last_ep = self.episode_rewards[-1]\n",
    "        ten_ep_mean = sum(self.episode_rewards[-10:])/len(self.episode_rewards[-10:])\n",
    "        hundred_ep_mean = sum(self.episode_rewards[-100:])/len(self.episode_rewards[-100:])\n",
    "        return f'Ep: {episode} // steps: {self.steps} // last ep reward: {last_ep:.2f} // {min(10, len(self.episode_rewards[-10:]))}-ep mean: {ten_ep_mean:.2f} // {min(100, len(self.episode_rewards[-100:]))}-ep mean: {hundred_ep_mean:.2f}'\n",
    "\n",
    "    def replay(self):\n",
    "        batch = self.memory.sample()\n",
    "        loss = categorical_loss(self.online_net, self.target_net, batch, self.discount)\n",
    "        self.optimizer.zero_grad()\n",
    "        loss.backward()\n",
    "        self.optimizer.step()\n",
    "        return loss.item()/self.minibatch_size\n",
    "\n",
    "    def monitor(self):\n",
    "        if self.steps % self.monitor_every == 0:\n",
    "            self.target_net.monitoring(True)\n",
    "        else:\n",
    "            self.target_net.monitoring(False)\n",
    "\n",
    "    def train(self):\n",
    "        for episode in range(self.num_episodes):\n",
    "            episode_done = False\n",
    "            episode_reward = 0\n",
    "\n",
    "            episode_loss = 0\n",
    "            state = torch.tensor(self.env.reset(), dtype=torch.float)\n",
    "            self.target_net_q_values.append(self.target_net.predict_action_values(state).max().item())\n",
    "            while not episode_done:\n",
    "                epsilon = self.epsilon_min + (self.epsilon_max - self.epsilon_min) * math.exp(-self.annealing_const * self.steps)\n",
    "                self.steps += 1                \n",
    "                if random.random() < epsilon:\n",
    "                    action = random.randint(0, self.action_shape-1)\n",
    "                else:\n",
    "                    action = self.online_net.single_action(state).item()\n",
    "                self.render(episode)\n",
    "                self.monitor()\n",
    "                state_, reward, episode_done, _ = self.env.step(action)\n",
    "                state_ = torch.tensor(state_, dtype=torch.float)\n",
    "                episode_reward += reward\n",
    "                self.memory.append((state, action, reward, state_, episode_done))\n",
    "                episode_loss += self.replay()\n",
    "                state = state_\n",
    "                if self.steps % self.update_target_every == 0:\n",
    "                    self.target_net.load_state_dict(self.online_net.state_dict())\n",
    "                if episode_done:\n",
    "                    self.episode_rewards.append(episode_reward)\n",
    "                    print(self.training_progress_report(episode), end='\\r', flush=True)\n",
    "                    writer.add_scalar('train loss', episode_loss, self.steps)\n",
    "                    writer.add_scalar('episode reward', episode_reward, self.steps)                    \n",
    "        self.env.close()\n",
    "\n",
    "    def test(self):\n",
    "        pass"
   ]
  },
  {
   "cell_type": "code",
   "execution_count": 70,
   "metadata": {
    "ExecuteTime": {
     "end_time": "2018-07-17T13:29:12.137723Z",
     "start_time": "2018-07-17T13:28:29.085195Z"
    }
   },
   "outputs": [
    {
     "data": {
      "text/plain": [
       "{'log_dir': 'categorical-dqn',\n",
       " 'random_seed': 0,\n",
       " 'run_dir': 'categorical-dqn/Jul-17-18@09:05:56-DaydreamNation.local',\n",
       " 'run_name': 'Jul-17-18@09:05:56-DaydreamNation.local',\n",
       " 'tag': 'Experiment Config: Test Monitor :: Jul-17-18@09:28:29\\n',\n",
       " 'title': 'Test Monitor'}"
      ]
     },
     "execution_count": 70,
     "metadata": {},
     "output_type": "execute_result"
    },
    {
     "name": "stdout",
     "output_type": "stream",
     "text": [
      "Ep: 999 // steps: 10015 // last ep reward: 8.00 // 10-ep mean: 9.40 // 100-ep mean: 9.44 mean: 9.45steps: 111 // last ep reward: 23.00 // 4-ep mean: 27.75 // 4-ep mean: 27.75Ep: 6 // steps: 160 // last ep reward: 20.00 // 7-ep mean: 22.86 // 7-ep mean: 22.86Ep: 13 // steps: 258 // last ep reward: 15.00 // 10-ep mean: 14.70 // 14-ep mean: 18.43350 ... Ep: 17 // steps: 358 // last ep reward: 60.00 // 10-ep mean: 18.70 // 18-ep mean: 19.89Ep: 25 // steps: 462 // last ep reward: 20.00 // 10-ep mean: 17.50 // 26-ep mean: 17.77Ep: 28 // steps: 511 // last ep reward: 12.00 // 10-ep mean: 13.30 // 29-ep mean: 17.62Ep: 35 // steps: 605 // last ep reward: 19.00 // 10-ep mean: 14.30 // 36-ep mean: 16.81Ep: 37 // steps: 658 // last ep reward: 15.00 // 10-ep mean: 15.90 // 38-ep mean: 17.32Ep: 41 // steps: 724 // last ep reward: 25.00 // 10-ep mean: 17.60 // 42-ep mean: 17.24Ep: 48 // steps: 807 // last ep reward: 14.00 // 10-ep mean: 13.00 // 49-ep mean: 16.47Ep: 55 // steps: 902 // last ep reward: 10.00 // 10-ep mean: 13.80 // 56-ep mean: 16.11Ep: 59 // steps: 955 // last ep reward: 10.00 // 10-ep mean: 12.20 // 60-ep mean: 15.92Ep: 82 // steps: 1213 // last ep reward: 19.00 // 10-ep mean: 12.20 // 83-ep mean: 14.61Ep: 90 // steps: 1304 // last ep reward: 13.00 // 10-ep mean: 12.00 // 91-ep mean: 14.33Ep: 95 // steps: 1358 // last ep reward: 11.00 // 10-ep mean: 10.90 // 96-ep mean: 14.15Ep: 100 // steps: 1414 // last ep reward: 15.00 // 10-ep mean: 11.00 // 100-ep mean: 13.81Ep: 104 // steps: 1456 // last ep reward: 9.00 // 10-ep mean: 10.90 // 100-ep mean: 13.29Ep: 108 // steps: 1505 // last ep reward: 15.00 // 10-ep mean: 11.50 // 100-ep mean: 13.22Ep: 112 // steps: 1556 // last ep reward: 13.00 // 10-ep mean: 11.70 // 100-ep mean: 13.13Ep: 148 // steps: 1908 // last ep reward: 10.00 // 10-ep mean: 9.60 // 100-ep mean: 11.01Ep: 152 // steps: 1953 // last ep reward: 13.00 // 10-ep mean: 10.10 // 100-ep mean: 10.83Ep: 183 // steps: 2258 // last ep reward: 9.00 // 10-ep mean: 9.30 // 100-ep mean: 10.31Ep: 254 // steps: 2959 // last ep reward: 10.00 // 10-ep mean: 9.40 // 100-ep mean: 9.88Ep: 259 // steps: 3008 // last ep reward: 11.00 // 10-ep mean: 9.50 // 100-ep mean: 9.82Ep: 280 // steps: 3207 // last ep reward: 10.00 // 10-ep mean: 9.50 // 100-ep mean: 9.77Ep: 285 // steps: 3257 // last ep reward: 10.00 // 10-ep mean: 9.80 // 100-ep mean: 9.77Ep: 290 // steps: 3304 // last ep reward: 9.00 // 10-ep mean: 9.70 // 100-ep mean: 9.77Ep: 306 // steps: 3456 // last ep reward: 8.00 // 10-ep mean: 9.50 // 100-ep mean: 9.70Ep: 338 // steps: 3755 // last ep reward: 10.00 // 10-ep mean: 9.10 // 100-ep mean: 9.50Ep: 343 // steps: 3804 // last ep reward: 9.00 // 10-ep mean: 9.60 // 100-ep mean: 9.52Ep: 354 // steps: 3908 // last ep reward: 10.00 // 10-ep mean: 9.60 // 100-ep mean: 9.49Ep: 370 // steps: 4056 // last ep reward: 9.00 // 10-ep mean: 9.30 // 100-ep mean: 9.44Ep: 386 // steps: 4207 // last ep reward: 9.00 // 10-ep mean: 9.10 // 100-ep mean: 9.41Ep: 391 // steps: 4260 // last ep reward: 12.00 // 10-ep mean: 10.10 // 100-ep mean: 9.46Ep: 396 // steps: 4308 // last ep reward: 11.00 // 10-ep mean: 10.10 // 100-ep mean: 9.47Ep: 401 // steps: 4356 // last ep reward: 10.00 // 10-ep mean: 9.60 // 100-ep mean: 9.47Ep: 422 // steps: 4557 // last ep reward: 9.00 // 10-ep mean: 9.70 // 100-ep mean: 9.48Ep: 427 // steps: 4606 // last ep reward: 9.00 // 10-ep mean: 9.70 // 100-ep mean: 9.51Ep: 437 // steps: 4701 // last ep reward: 9.00 // 10-ep mean: 9.50 // 100-ep mean: 9.56Ep: 443 // steps: 4758 // last ep reward: 11.00 // 10-ep mean: 9.30 // 100-ep mean: 9.54Ep: 448 // steps: 4805 // last ep reward: 10.00 // 10-ep mean: 9.40 // 100-ep mean: 9.55Ep: 453 // steps: 4854 // last ep reward: 10.00 // 10-ep mean: 9.60 // 100-ep mean: 9.56Ep: 469 // steps: 5008 // last ep reward: 10.00 // 10-ep mean: 9.80 // 100-ep mean: 9.61Ep: 474 // steps: 5056 // last ep reward: 10.00 // 10-ep mean: 9.90 // 100-ep mean: 9.61Ep: 479 // steps: 5103 // last ep reward: 10.00 // 10-ep mean: 9.50 // 100-ep mean: 9.61Ep: 490 // steps: 5206 // last ep reward: 9.00 // 10-ep mean: 9.30 // 100-ep mean: 9.58Ep: 517 // steps: 5457 // last ep reward: 10.00 // 10-ep mean: 9.50 // 100-ep mean: 9.48Ep: 522 // steps: 5504 // last ep reward: 9.00 // 10-ep mean: 9.40 // 100-ep mean: 9.47Ep: 533 // steps: 5606 // last ep reward: 10.00 // 10-ep mean: 9.20 // 100-ep mean: 9.41Ep: 538 // steps: 5655 // last ep reward: 9.00 // 10-ep mean: 9.70 // 100-ep mean: 9.44Ep: 543 // steps: 5704 // last ep reward: 10.00 // 10-ep mean: 9.80 // 100-ep mean: 9.46Ep: 559 // steps: 5858 // last ep reward: 10.00 // 10-ep mean: 9.70 // 100-ep mean: 9.48Ep: 570 // steps: 5960 // last ep reward: 11.00 // 10-ep mean: 9.30 // 100-ep mean: 9.43Ep: 575 // steps: 6008 // last ep reward: 9.00 // 10-ep mean: 9.40 // 100-ep mean: 9.42Ep: 580 // steps: 6056 // last ep reward: 8.00 // 10-ep mean: 9.60 // 100-ep mean: 9.43Ep: 595 // steps: 6200 // last ep reward: 9.00 // 10-ep mean: 9.70 // 100-ep mean: 9.45Ep: 601 // steps: 6258 // last ep reward: 10.00 // 10-ep mean: 9.70 // 100-ep mean: 9.50Ep: 606 // steps: 6303 // last ep reward: 8.00 // 10-ep mean: 9.20 // 100-ep mean: 9.50Ep: 612 // steps: 6358 // last ep reward: 10.00 // 10-ep mean: 9.00 // 100-ep mean: 9.48Ep: 617 // steps: 6405 // last ep reward: 8.00 // 10-ep mean: 9.30 // 100-ep mean: 9.48Ep: 628 // steps: 6506 // last ep reward: 9.00 // 10-ep mean: 9.20 // 100-ep mean: 9.48Ep: 649 // steps: 6706 // last ep reward: 9.00 // 10-ep mean: 9.50 // 100-ep mean: 9.45Ep: 665 // steps: 6858 // last ep reward: 9.00 // 10-ep mean: 9.30 // 100-ep mean: 9.44Ep: 686 // steps: 7058 // last ep reward: 9.00 // 10-ep mean: 9.30 // 100-ep mean: 9.46Ep: 718 // steps: 7356 // last ep reward: 10.00 // 10-ep mean: 9.20 // 100-ep mean: 9.42Ep: 728 // steps: 7453 // last ep reward: 10.00 // 10-ep mean: 9.70 // 100-ep mean: 9.47Ep: 765 // steps: 7808 // last ep reward: 9.00 // 10-ep mean: 9.70 // 100-ep mean: 9.50Ep: 802 // steps: 8158 // last ep reward: 10.00 // 10-ep mean: 9.50 // 100-ep mean: 9.48Ep: 822 // steps: 8350 // last ep reward: 9.00 // 10-ep mean: 9.40 // 100-ep mean: 9.55Ep: 828 // steps: 8409 // last ep reward: 10.00 // 10-ep mean: 9.80 // 100-ep mean: 9.56Ep: 833 // steps: 8458 // last ep reward: 9.00 // 10-ep mean: 9.80 // 100-ep mean: 9.58Ep: 844 // steps: 8559 // last ep reward: 10.00 // 10-ep mean: 9.10 // 100-ep mean: 9.53Ep: 860 // steps: 8707 // last ep reward: 9.00 // 10-ep mean: 9.40 // 100-ep mean: 9.47Ep: 865 // steps: 8753 // last ep reward: 11.00 // 10-ep mean: 9.20 // 100-ep mean: 9.45Ep: 876 // steps: 8858 // last ep reward: 9.00 // 10-ep mean: 9.50 // 100-ep mean: 9.47Ep: 881 // steps: 8903 // last ep reward: 8.00 // 10-ep mean: 9.30 // 100-ep mean: 9.45Ep: 892 // steps: 9005 // last ep reward: 10.00 // 10-ep mean: 9.20 // 100-ep mean: 9.42Ep: 908 // steps: 9157 // last ep reward: 10.00 // 10-ep mean: 9.50 // 100-ep mean: 9.40Ep: 919 // steps: 9259 // last ep reward: 10.00 // 10-ep mean: 9.40 // 100-ep mean: 9.38Ep: 929 // steps: 9354 // last ep reward: 10.00 // 10-ep mean: 9.50 // 100-ep mean: 9.35Ep: 945 // steps: 9506 // last ep reward: 9.00 // 10-ep mean: 9.70 // 100-ep mean: 9.39Ep: 950 // steps: 9554 // last ep reward: 8.00 // 10-ep mean: 9.50 // 100-ep mean: 9.41Ep: 960 // steps: 9651 // last ep reward: 10.00 // 10-ep mean: 9.70 // 100-ep mean: 9.44Ep: 966 // steps: 9705 // last ep reward: 8.00 // 10-ep mean: 9.30 // 100-ep mean: 9.42Ep: 971 // steps: 9755 // last ep reward: 10.00 // 10-ep mean: 9.50 // 100-ep mean: 9.45Ep: 977 // steps: 9809 // last ep reward: 10.00 // 10-ep mean: 9.40 // 100-ep mean: 9.42\r"
     ]
    }
   ],
   "source": [
    "writer, _ = init_experiment(monitor_config)\n",
    "monitor_config\n",
    "agent = CategoricalAgent(cartpole, learning_rate=0.000000001, logger=writer)\n",
    "monitor_module(\n",
    "    agent.target_net, writer, \n",
    "    track_data=True,\n",
    "    track_grad=True,\n",
    "    track_update=True,\n",
    "    track_update_ratio=True\n",
    ")\n",
    "agent.train()"
   ]
  }
 ],
 "metadata": {
  "kernelspec": {
   "display_name": "Python 3",
   "language": "python",
   "name": "python3"
  },
  "language_info": {
   "codemirror_mode": {
    "name": "ipython",
    "version": 3
   },
   "file_extension": ".py",
   "mimetype": "text/x-python",
   "name": "python",
   "nbconvert_exporter": "python",
   "pygments_lexer": "ipython3",
   "version": "3.6.2"
  },
  "latex_envs": {
   "LaTeX_envs_menu_present": true,
   "autoclose": true,
   "autocomplete": true,
   "bibliofile": "biblio.bib",
   "cite_by": "apalike",
   "current_citInitial": 1,
   "eqLabelWithNumbers": true,
   "eqNumInitial": 1,
   "hotkeys": {
    "equation": "Ctrl-E",
    "itemize": "Ctrl-I"
   },
   "labels_anchors": false,
   "latex_user_defs": false,
   "report_style_numbering": false,
   "user_envs_cfg": false
  },
  "toc": {
   "base_numbering": 1,
   "nav_menu": {},
   "number_sections": true,
   "sideBar": true,
   "skip_h1_title": false,
   "title_cell": "Table of Contents",
   "title_sidebar": "Contents",
   "toc_cell": false,
   "toc_position": {},
   "toc_section_display": true,
   "toc_window_display": false
  },
  "varInspector": {
   "cols": {
    "lenName": 16,
    "lenType": 16,
    "lenVar": 40
   },
   "kernels_config": {
    "python": {
     "delete_cmd_postfix": "",
     "delete_cmd_prefix": "del ",
     "library": "var_list.py",
     "varRefreshCmd": "print(var_dic_list())"
    },
    "r": {
     "delete_cmd_postfix": ") ",
     "delete_cmd_prefix": "rm(",
     "library": "var_list.r",
     "varRefreshCmd": "cat(var_dic_list()) "
    }
   },
   "types_to_exclude": [
    "module",
    "function",
    "builtin_function_or_method",
    "instance",
    "_Feature"
   ],
   "window_display": false
  }
 },
 "nbformat": 4,
 "nbformat_minor": 2
}
