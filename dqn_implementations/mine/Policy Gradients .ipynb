{
 "cells": [
  {
   "cell_type": "code",
   "execution_count": 19,
   "metadata": {},
   "outputs": [
    {
     "name": "stdout",
     "output_type": "stream",
     "text": [
      "\u001b[33mWARN: gym.spaces.Box autodetected dtype as <class 'numpy.float32'>. Please provide explicit dtype.\u001b[0m\n"
     ]
    }
   ],
   "source": [
    "%matplotlib inline\n",
    "\n",
    "from datetime import datetime\n",
    "from imp import reload\n",
    "\n",
    "import attr\n",
    "import gym\n",
    "from matplotlib import pyplot as plt\n",
    "import numpy as np\n",
    "from numpy.random import seed as rng_seed\n",
    "from smooth import smooth\n",
    "\n",
    "ENV_NAME = 'CartPole-v1'\n",
    "env = gym.make(ENV_NAME)\n",
    "STATE_SIZE = env.observation_space.shape\n",
    "ACTION_SIZE = env.action_space.n\n",
    "ACTOR_STEP_SIZE = .01\n",
    "CRITIC_STEP_SIZE = .01\n",
    "DISCOUNT_RATE = 0.99\n",
    "\n",
    "\n",
    "# https://machinelearningmastery.com/reproducible-results-neural-networks-keras/#comment-414394\n",
    "rng_seed(0)"
   ]
  },
  {
   "cell_type": "markdown",
   "metadata": {},
   "source": [
    "# REINFORCE w Baseline (episodic)\n",
    "### From Sutton/Barto Reinforcement Learning 2nd ed, p. 332\n",
    "\n",
    "Network:\n",
    "- input: state-size input\n",
    "- hidden: 64 units, ReLU\n",
    "- output: action-size, prob of each action\n"
   ]
  },
  {
   "cell_type": "code",
   "execution_count": null,
   "metadata": {},
   "outputs": [],
   "source": [
    "s0, a0, r1, s1, a1, r2\n",
    "\n",
    "pred_val1\n",
    "tru_val1"
   ]
  },
  {
   "cell_type": "code",
   "execution_count": 22,
   "metadata": {},
   "outputs": [
    {
     "ename": "ValueError",
     "evalue": "No mandatory attributes allowed after an attribute with a default value or factory.  Attribute in question: Attribute(name='policy', default=NOTHING, validator=None, repr=True, cmp=True, hash=None, init=True, convert=None, metadata=mappingproxy({}), type=None)",
     "output_type": "error",
     "traceback": [
      "\u001b[0;31m---------------------------------------------------------------------------\u001b[0m",
      "\u001b[0;31mValueError\u001b[0m                                Traceback (most recent call last)",
      "\u001b[0;32m<ipython-input-22-e4335a15b2cb>\u001b[0m in \u001b[0;36m<module>\u001b[0;34m()\u001b[0m\n\u001b[1;32m     19\u001b[0m \u001b[0;34m\u001b[0m\u001b[0m\n\u001b[1;32m     20\u001b[0m \u001b[0;34m@\u001b[0m\u001b[0mattr\u001b[0m\u001b[0;34m.\u001b[0m\u001b[0ms\u001b[0m\u001b[0;34m\u001b[0m\u001b[0m\n\u001b[0;32m---> 21\u001b[0;31m \u001b[0;32mclass\u001b[0m \u001b[0mValueFunc\u001b[0m\u001b[0;34m(\u001b[0m\u001b[0mPolicy\u001b[0m\u001b[0;34m)\u001b[0m\u001b[0;34m:\u001b[0m\u001b[0;34m\u001b[0m\u001b[0m\n\u001b[0m\u001b[1;32m     22\u001b[0m     \u001b[0mpolicy\u001b[0m \u001b[0;34m=\u001b[0m \u001b[0mattr\u001b[0m\u001b[0;34m.\u001b[0m\u001b[0mib\u001b[0m\u001b[0;34m(\u001b[0m\u001b[0;34m)\u001b[0m\u001b[0;34m\u001b[0m\u001b[0m\n\u001b[1;32m     23\u001b[0m \u001b[0;34m\u001b[0m\u001b[0m\n",
      "\u001b[0;32m~/Envs/ai-gym/lib/python3.6/site-packages/attr/_make.py\u001b[0m in \u001b[0;36mattrs\u001b[0;34m(maybe_cls, these, repr_ns, repr, cmp, hash, init, slots, frozen, str, auto_attribs)\u001b[0m\n\u001b[1;32m    642\u001b[0m         \u001b[0;32mreturn\u001b[0m \u001b[0mwrap\u001b[0m\u001b[0;34m\u001b[0m\u001b[0m\n\u001b[1;32m    643\u001b[0m     \u001b[0;32melse\u001b[0m\u001b[0;34m:\u001b[0m\u001b[0;34m\u001b[0m\u001b[0m\n\u001b[0;32m--> 644\u001b[0;31m         \u001b[0;32mreturn\u001b[0m \u001b[0mwrap\u001b[0m\u001b[0;34m(\u001b[0m\u001b[0mmaybe_cls\u001b[0m\u001b[0;34m)\u001b[0m\u001b[0;34m\u001b[0m\u001b[0m\n\u001b[0m\u001b[1;32m    645\u001b[0m \u001b[0;34m\u001b[0m\u001b[0m\n\u001b[1;32m    646\u001b[0m \u001b[0;34m\u001b[0m\u001b[0m\n",
      "\u001b[0;32m~/Envs/ai-gym/lib/python3.6/site-packages/attr/_make.py\u001b[0m in \u001b[0;36mwrap\u001b[0;34m(cls)\u001b[0m\n\u001b[1;32m    611\u001b[0m             \u001b[0;32mraise\u001b[0m \u001b[0mTypeError\u001b[0m\u001b[0;34m(\u001b[0m\u001b[0;34m\"attrs only works with new-style classes.\"\u001b[0m\u001b[0;34m)\u001b[0m\u001b[0;34m\u001b[0m\u001b[0m\n\u001b[1;32m    612\u001b[0m \u001b[0;34m\u001b[0m\u001b[0m\n\u001b[0;32m--> 613\u001b[0;31m         \u001b[0mbuilder\u001b[0m \u001b[0;34m=\u001b[0m \u001b[0m_ClassBuilder\u001b[0m\u001b[0;34m(\u001b[0m\u001b[0mcls\u001b[0m\u001b[0;34m,\u001b[0m \u001b[0mthese\u001b[0m\u001b[0;34m,\u001b[0m \u001b[0mslots\u001b[0m\u001b[0;34m,\u001b[0m \u001b[0mfrozen\u001b[0m\u001b[0;34m,\u001b[0m \u001b[0mauto_attribs\u001b[0m\u001b[0;34m)\u001b[0m\u001b[0;34m\u001b[0m\u001b[0m\n\u001b[0m\u001b[1;32m    614\u001b[0m \u001b[0;34m\u001b[0m\u001b[0m\n\u001b[1;32m    615\u001b[0m         \u001b[0;32mif\u001b[0m \u001b[0mrepr\u001b[0m \u001b[0;32mis\u001b[0m \u001b[0;32mTrue\u001b[0m\u001b[0;34m:\u001b[0m\u001b[0;34m\u001b[0m\u001b[0m\n",
      "\u001b[0;32m~/Envs/ai-gym/lib/python3.6/site-packages/attr/_make.py\u001b[0m in \u001b[0;36m__init__\u001b[0;34m(self, cls, these, slots, frozen, auto_attribs)\u001b[0m\n\u001b[1;32m    343\u001b[0m \u001b[0;34m\u001b[0m\u001b[0m\n\u001b[1;32m    344\u001b[0m     \u001b[0;32mdef\u001b[0m \u001b[0m__init__\u001b[0m\u001b[0;34m(\u001b[0m\u001b[0mself\u001b[0m\u001b[0;34m,\u001b[0m \u001b[0mcls\u001b[0m\u001b[0;34m,\u001b[0m \u001b[0mthese\u001b[0m\u001b[0;34m,\u001b[0m \u001b[0mslots\u001b[0m\u001b[0;34m,\u001b[0m \u001b[0mfrozen\u001b[0m\u001b[0;34m,\u001b[0m \u001b[0mauto_attribs\u001b[0m\u001b[0;34m)\u001b[0m\u001b[0;34m:\u001b[0m\u001b[0;34m\u001b[0m\u001b[0m\n\u001b[0;32m--> 345\u001b[0;31m         \u001b[0mattrs\u001b[0m\u001b[0;34m,\u001b[0m \u001b[0msuper_attrs\u001b[0m \u001b[0;34m=\u001b[0m \u001b[0m_transform_attrs\u001b[0m\u001b[0;34m(\u001b[0m\u001b[0mcls\u001b[0m\u001b[0;34m,\u001b[0m \u001b[0mthese\u001b[0m\u001b[0;34m,\u001b[0m \u001b[0mauto_attribs\u001b[0m\u001b[0;34m)\u001b[0m\u001b[0;34m\u001b[0m\u001b[0m\n\u001b[0m\u001b[1;32m    346\u001b[0m \u001b[0;34m\u001b[0m\u001b[0m\n\u001b[1;32m    347\u001b[0m         \u001b[0mself\u001b[0m\u001b[0;34m.\u001b[0m\u001b[0m_cls\u001b[0m \u001b[0;34m=\u001b[0m \u001b[0mcls\u001b[0m\u001b[0;34m\u001b[0m\u001b[0m\n",
      "\u001b[0;32m~/Envs/ai-gym/lib/python3.6/site-packages/attr/_make.py\u001b[0m in \u001b[0;36m_transform_attrs\u001b[0;34m(cls, these, auto_attribs)\u001b[0m\n\u001b[1;32m    309\u001b[0m                 \u001b[0;34m\"No mandatory attributes allowed after an attribute with a \"\u001b[0m\u001b[0;34m\u001b[0m\u001b[0m\n\u001b[1;32m    310\u001b[0m                 \u001b[0;34m\"default value or factory.  Attribute in question: {a!r}\"\u001b[0m\u001b[0;34m\u001b[0m\u001b[0m\n\u001b[0;32m--> 311\u001b[0;31m                 \u001b[0;34m.\u001b[0m\u001b[0mformat\u001b[0m\u001b[0;34m(\u001b[0m\u001b[0ma\u001b[0m\u001b[0;34m=\u001b[0m\u001b[0ma\u001b[0m\u001b[0;34m)\u001b[0m\u001b[0;34m\u001b[0m\u001b[0m\n\u001b[0m\u001b[1;32m    312\u001b[0m             )\n\u001b[1;32m    313\u001b[0m         \u001b[0;32melif\u001b[0m \u001b[0mhad_default\u001b[0m \u001b[0;32mis\u001b[0m \u001b[0;32mFalse\u001b[0m \u001b[0;32mand\u001b[0m\u001b[0;31m \u001b[0m\u001b[0;31m\\\u001b[0m\u001b[0;34m\u001b[0m\u001b[0m\n",
      "\u001b[0;31mValueError\u001b[0m: No mandatory attributes allowed after an attribute with a default value or factory.  Attribute in question: Attribute(name='policy', default=NOTHING, validator=None, repr=True, cmp=True, hash=None, init=True, convert=None, metadata=mappingproxy({}), type=None)"
     ]
    }
   ],
   "source": [
    "def reinforce(env, policy, value_func, policy_stepsize=2e-9, value_stepsize=2e-6):\n",
    "    pass\n",
    "\n",
    "\n",
    "@attr.s\n",
    "class Policy:\n",
    "    input_size = attr.ib()\n",
    "    output_size = attr.ib()\n",
    "    hidden_size = attr.ib(default=64)\n",
    "    \n",
    "    def __attrs_post_init__(self):         \n",
    "        scale_factor1 = 1 / np.sqrt(input_size+1)\n",
    "        self.W1 = np.random.normal(scale=scale_factor1, size=(1, hidden_size+1))\n",
    "        self.W1[0][-1] = np.random.normal()  # bias weight\n",
    "        scale_factor2 = 1/np.sqrt(W1.shape[1])\n",
    "        self.W2 = np.random.normal(scale=scale_factor2, size=(W1.shape[1], output_size))\n",
    "        self.W2[-1] = np.random.normal(size=(1, output_size))  # bias weights\n",
    "    \n",
    "    def forward(self, data):\n",
    "        bias = np.ones((data.shape[0], 1))\n",
    "        data = np.hstack(data, bias)\n",
    "        \n",
    "        \n",
    "\n",
    "@attr.s\n",
    "class ValueFunc(Policy):\n",
    "    policy = attr.ib()\n",
    "    env = attr.ib()\n",
    "    step_size = attr.ib()\n",
    "    discount_rate = attr.ib()\n",
    "    hidden_size = attr.ib(default=64)\n",
    "    \n",
    "    def __attrs_post_init__(self):         \n",
    "        scale_factor1 = 1 / np.sqrt(input_size+1)\n",
    "        self.W1 = np.random.normal(scale=scale_factor1, size=(1, hidden_size+1))\n",
    "        self.W1[0][-1] = np.random.normal()  # bias weight\n",
    "        scale_factor2 = 1/np.sqrt(W1.shape[1])\n",
    "        self.W2 = np.random.normal(scale=scale_factor2, size=(W1.shape[1], output_size))\n",
    "        self.W2[-1] = np.random.normal(size=(1, output_size))  # bias weights\n",
    "    \n",
    "    def train(self, num_episodes=100):\n",
    "        start_values = []\n",
    "        for _ in range(num_episodes):\n",
    "            state = self.env.reset()\n",
    "            is_done = False\n",
    "            start_values.append(self.predict_value(state))\n",
    "            while not is_done:\n",
    "                action = self.policy.sample_action(state)\n",
    "                state_, true_current_reward, is_done, _ = self.env.step(action)\n",
    "                predicted_current_reward, gradient = self.preduct_value(state)\n",
    "\n",
    "                gradient_scale_factor = self.step_size * (reward + self.discount_rate * predicted_next_reward - predicted_current_reward)                \n",
    "                W1_gradient, W2_gradient = gradient\n",
    "                self.W1 += gradient_scale_factor * W1_gradient\n",
    "                self.W2 += gradient_scale_factor * W2_gradient\n",
    "                state = state_\n",
    "        return start_values\n",
    "    \n",
    "    def predict_value(self, state, target)    \n",
    "        bias = np.ones((data.shape[0], 1))\n",
    "        state = np.hstack(state, bias)\n",
    "        z1 = state.T.dot(self.W1)\n",
    "        a1 = z1.copy()\n",
    "        a1[a1 < 0] = 0\n",
    "        z2 = a1.dot(self.W2)\n",
    "        \n",
    "        delta2 = \n",
    "        \n",
    "        return value, (W1_gradient, W2_gradient) \n",
    "\n"
   ]
  },
  {
   "cell_type": "code",
   "execution_count": null,
   "metadata": {},
   "outputs": [],
   "source": []
  },
  {
   "cell_type": "code",
   "execution_count": null,
   "metadata": {},
   "outputs": [],
   "source": [
    "policy = make_policy(STATE_SIZE, ACTION_SIZE)\n",
    "value_func = make_policy(STATE_SIZE, ACTION_SIZE)\n",
    "reinforce(env, policy, value_func)\n"
   ]
  },
  {
   "cell_type": "markdown",
   "metadata": {},
   "source": [
    "## One-step Actor-Critic (episodic).\n",
    "\n",
    "```\n",
    "Input: a differentiable policy parameterization π(a|s, θ)\n",
    "Input: a differentiable state-value function parameterization vˆ(s,w) \n",
    "Parameters: step sizes α^θ > 0, α^w > 0\n",
    "Initialize policy parameter θ ∈ Rd′ and state-value weights w ∈ Rd (e.g., to 0) \n",
    "While True:\n",
    "    Initialize S (first state of episode)\n",
    "    I←1\n",
    "    Loop while S is not terminal (for each time step):\n",
    "        A ∼ π(·|S, θ)\n",
    "        Take action A, observe S′, R \n",
    "        δ ← R + γ vˆ(S′,w) − vˆ(S,w) \n",
    "        w ← w + α^w I δ ∇ vˆ ( S , w )\n",
    "        θ ← θ + α^θ I δ ∇ ln π(A|S, θ) \n",
    "        I ← γI\n",
    "        S ← S′\n",
    "```\n",
    "#### From Sutton/Barto, Reinforcement Learning 2nd ed, p. 334"
   ]
  },
  {
   "cell_type": "code",
   "execution_count": 17,
   "metadata": {},
   "outputs": [],
   "source": [
    "import keras\n",
    "import tensorflow as tf"
   ]
  },
  {
   "cell_type": "code",
   "execution_count": 14,
   "metadata": {},
   "outputs": [],
   "source": [
    "def make_actor(state_size, action_size, hidden_size=32):\n",
    "    network = keras.Sequential()\n",
    "    network.add(keras.layers.Dense(hidden_size, activation='relu', input_shape=state_size))\n",
    "    network.add(keras.layers.Dense(action_size, activation='softmax'))\n",
    "    network.compile(optimizer=keras.optimizers.Adam(), loss='mse')\n",
    "    return network\n",
    "\n",
    "def make_critic(state_size, hidden_size=32):\n",
    "    network = keras.Sequential()\n",
    "    network.add(keras.layers.Dense(hidden_size, activation='relu', input_shape=state_size))\n",
    "    network.add(keras.layers.Dense(1, activation='linear'))\n",
    "    network.compile(optimizer=keras.optimizers.Adam(), loss='mse')\n",
    "    return network\n",
    "    "
   ]
  },
  {
   "cell_type": "code",
   "execution_count": 15,
   "metadata": {},
   "outputs": [],
   "source": [
    "actor = make_actor(STATE_SIZE, ACTION_SIZE)\n",
    "critic = make_critic(STATE_SIZE)"
   ]
  },
  {
   "cell_type": "code",
   "execution_count": 9,
   "metadata": {},
   "outputs": [
    {
     "data": {
      "text/plain": [
       "<keras.layers.core.Dense at 0x1240eb710>"
      ]
     },
     "execution_count": 9,
     "metadata": {},
     "output_type": "execute_result"
    }
   ],
   "source": [
    "def go(actor, critic):\n",
    "    "
   ]
  },
  {
   "cell_type": "code",
   "execution_count": 38,
   "metadata": {},
   "outputs": [
    {
     "name": "stdout",
     "output_type": "stream",
     "text": [
      "\u001b[33mWARN: gym.spaces.Box autodetected dtype as <class 'numpy.float32'>. Please provide explicit dtype.\u001b[0m\n"
     ]
    }
   ],
   "source": [
    "import attr\n",
    "import gym\n",
    "from matplotlib import pyplot as plt\n",
    "import numpy as np\n",
    "\n",
    "env_name = 'CartPole-v1'\n",
    "env = gym.make(env_name)\n",
    "\n",
    "\n",
    "def cartpole_state_func(state):\n",
    "    # for cartpole: pos, vel, ang, ang vel\n",
    "    pos, vel, ang, ang_vel = state\n",
    "    return np.array([1, pos, vel, ang, ang_vel, pos*vel, ang*ang_vel, pos*ang, pos*ang_vel, vel*ang, vel*ang_vel, pos*vel*ang*ang_vel])\n",
    "\n",
    "\n",
    "@attr.s\n",
    "class Policy:\n",
    "    weights = attr.ib()\n",
    "    state_func = attr.ib()\n",
    "\n",
    "    def get_action(self, state):\n",
    "        if np.random.random() < self.weights.dot(self.state_func(state)):\n",
    "            return 1\n",
    "        return 0\n",
    "\n",
    "\n",
    "def run_episode(policy, env, render=False):\n",
    "    state = env.reset()\n",
    "    is_done = False\n",
    "    states, actions, rewards = [], [], []\n",
    "    for _ in range(200):                \n",
    "        if render:\n",
    "            env.render()        \n",
    "        action = policy.get_action(state)\n",
    "        state_, reward, is_done, _ = env.step(action)\n",
    "        states.append(state)\n",
    "        actions.append(action)\n",
    "        rewards.append(reward)\n",
    "        state = state_\n",
    "        if is_done:\n",
    "            break\n",
    "    return states, actions, rewards\n",
    "\n",
    "\n",
    "def discounted_return(rewards, discount=0.95):\n",
    "    total = 0\n",
    "    for idx, score in enumerate(rewards):\n",
    "        total += (discount ** idx) * score\n",
    "    return total\n",
    "\n",
    "\n",
    "# EPSILON = self.epsilon_min + (self.epsilon_max - self.epsilon_min) * math.exp(-self.annealing_const * self.steps)\n",
    "\n",
    "# def reinforce(policy, env, step_size=1e-7, discount=0.9, num_episodes=1000, render_every=10):\n",
    "def reinforce(policy, env, step_size_start=5e-6, step_size_end=1e-7, discount=0.9, num_episodes=2000, render_every=50):\n",
    "    training_rewards = []\n",
    "    step_sizes = []\n",
    "    best_return = float('-inf')\n",
    "    best_weights = None\n",
    "    # policy_weight_diffs = []\n",
    "    # old_weight = new_weight = None\n",
    "    # import pdb; pdb.set_trace()\n",
    "    step_size = step_size_start\n",
    "    step_size_change = (step_size_start - step_size_end) / num_episodes\n",
    "    for episode in range(num_episodes):\n",
    "        \n",
    "        states, actions, rewards = run_episode(policy, env, render=episode % render_every == 0)\n",
    "        episode_return = sum(rewards)        \n",
    "        if episode_return > best_return:\n",
    "            best_return = episode_return\n",
    "            best_weights = policy.weights\n",
    "        training_rewards.append(episode_return)  \n",
    "        #     data.append(end + start * .995 ** idx)\n",
    "        step_size = step_size_end + step_size_start * .995 ** episode\n",
    "        step_sizes.append(step_size)\n",
    "        for idx, action in enumerate(actions):\n",
    "            state = states[idx]\n",
    "            G = discounted_return(rewards[idx:])            \n",
    "            if episode % render_every == 0:\n",
    "                print(f'{episode}: {episode_return}, step-size: {step_size:.2}', end='\\r', flush=True)\n",
    "            policy.weights += step_size * G * policy.state_func(state)/policy.weights.dot(policy.state_func(state))\n",
    "    return training_rewards, best_return, best_weights, step_sizes\n",
    "\n",
    "\n",
    "\n",
    "policy = Policy(weights=np.random.random(12), state_func=cartpole_state_func)"
   ]
  },
  {
   "cell_type": "code",
   "execution_count": 47,
   "metadata": {},
   "outputs": [
    {
     "name": "stdout",
     "output_type": "stream",
     "text": [
      "1950: 9.0, step-size: 2.9e-122\r"
     ]
    },
    {
     "data": {
      "image/png": "[encoded data removed]",
      "text/plain": [
       "<matplotlib.figure.Figure at 0x126ca4b70>"
      ]
     },
     "metadata": {},
     "output_type": "display_data"
    }
   ],
   "source": [
    "step_size_start = 5e-8\n",
    "step_size_end = 1e-14\n",
    "num_episodes = 2000\n",
    "training_rewards, best_return, best_weights, step_sizes = reinforce(policy, env, render_every=50, num_episodes=num_episodes, step_size_start=step_size_start, step_size_end=step_size_end)\n",
    "plt.plot(training_rewards)\n",
    "plt.show()\n",
    "env.close()\n"
   ]
  },
  {
   "cell_type": "code",
   "execution_count": 4,
   "metadata": {},
   "outputs": [
    {
     "data": {
      "text/plain": [
       "(189.0, array([-0.95455163,  0.13930325, -6.69851751,  0.61900001, 10.44033207,\n",
       "         0.42629127,  0.1821342 ,  0.10251606,  0.38757577,  0.17812744,\n",
       "        -0.23087766,  0.67571064]))"
      ]
     },
     "execution_count": 4,
     "metadata": {},
     "output_type": "execute_result"
    }
   ],
   "source": [
    "\n",
    "best_return, best_weights"
   ]
  },
  {
   "cell_type": "code",
   "execution_count": 7,
   "metadata": {},
   "outputs": [],
   "source": [
    "policy.weights = np.array([-0.95455163,  0.13930325, -6.69851751,  0.61900001, 10.44033207,\n",
    "         0.42629127,  0.1821342 ,  0.10251606,  0.38757577,  0.17812744,\n",
    "        -0.23087766,  0.67571064])\n",
    "env.reset()\n",
    "for idx in range(10):\n",
    "    run_episode(policy, env, render=True)\n",
    "# env.close()    "
   ]
  }
 ],
 "metadata": {
  "kernelspec": {
   "display_name": "Python 3",
   "language": "python",
   "name": "python3"
  },
  "language_info": {
   "codemirror_mode": {
    "name": "ipython",
    "version": 3
   },
   "file_extension": ".py",
   "mimetype": "text/x-python",
   "name": "python",
   "nbconvert_exporter": "python",
   "pygments_lexer": "ipython3",
   "version": "3.6.2"
  }
 },
 "nbformat": 4,
 "nbformat_minor": 2
}
